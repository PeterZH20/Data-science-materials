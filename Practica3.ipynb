{
 "cells": [
  {
   "cell_type": "code",
   "execution_count": 1,
   "id": "bcddd087-68b0-4cac-8386-37d1418d523f",
   "metadata": {},
   "outputs": [],
   "source": [
    "import matplotlib.pyplot as plt\n",
    "import pandas as pd\n",
    "import numpy as np\n",
    "from mp_api.client import MPRester\n",
    "key=\"ebMdddl0cG3BZj3VyN9qMb6Ilj4Dl6dz\"\n",
    "mpr = MPRester(key)\n",
    "material=\"mp-160\" #mp-149,19,160"
   ]
  },
  {
   "cell_type": "markdown",
   "id": "88237163-2d3e-48e4-916a-c26f7c5d48cb",
   "metadata": {},
   "source": [
    "## Llamando datos del material\n",
    "Aquí se llaman a todas las características generales del material y se guardan en el archivo *docs*."
   ]
  },
  {
   "cell_type": "code",
   "execution_count": 3,
   "id": "cc5cc5bf-6570-459f-b640-21877d9b560f",
   "metadata": {},
   "outputs": [
    {
     "name": "stderr",
     "output_type": "stream",
     "text": [
      "C:\\Users\\ZAPATA\\AppData\\Local\\Temp\\ipykernel_12592\\2001464091.py:1: DeprecationWarning: Accessing summary data through MPRester.summary is deprecated. Please use MPRester.materials.summary instead.\n",
      "  docs = mpr.summary.search(material_ids=[material]) #type: list\n"
     ]
    },
    {
     "data": {
      "application/vnd.jupyter.widget-view+json": {
       "model_id": "fc48cf77eec74d6e83ef43953664c1c0",
       "version_major": 2,
       "version_minor": 0
      },
      "text/plain": [
       "Retrieving SummaryDoc documents:   0%|          | 0/1 [00:00<?, ?it/s]"
      ]
     },
     "metadata": {},
     "output_type": "display_data"
    },
    {
     "name": "stdout",
     "output_type": "stream",
     "text": [
      "[\u001b[4m\u001b[1mMPDataDoc<SummaryDoc>\u001b[0;0m\u001b[0;0m(\n",
      "\u001b[1mbuilder_meta\u001b[0;0m=EmmetMeta(emmet_version='0.72.20', pymatgen_version='2023.11.12', pull_request=990, database_version='2023.11.1', build_date=datetime.datetime(2023, 11, 22, 19, 38, 43, 665000), license='BY-C'),\n",
      "\u001b[1mnsites\u001b[0;0m=12,\n",
      "\u001b[1melements\u001b[0;0m=[Element B],\n",
      "\u001b[1mnelements\u001b[0;0m=1,\n",
      "\u001b[1mcomposition\u001b[0;0m=Composition('B12'),\n",
      "\u001b[1mcomposition_reduced\u001b[0;0m=Composition('B1'),\n",
      "\u001b[1mformula_pretty\u001b[0;0m='B',\n",
      "\u001b[1mformula_anonymous\u001b[0;0m='A',\n",
      "\u001b[1mchemsys\u001b[0;0m='B',\n",
      "\u001b[1mvolume\u001b[0;0m=86.74916330018324,\n",
      "\u001b[1mdensity\u001b[0;0m=2.4833098786521224,\n",
      "\u001b[1mdensity_atomic\u001b[0;0m=7.229096941681937,\n",
      "\u001b[1msymmetry\u001b[0;0m=SymmetryData(crystal_system=<CrystalSystem.trig: 'Trigonal'>, symbol='R-3m', number=166, point_group='-3m', symprec=0.1, version='2.0.2'),\n",
      "\u001b[1mproperty_name\u001b[0;0m='summary',\n",
      "\u001b[1mmaterial_id\u001b[0;0m=MPID(mp-160),\n",
      "\u001b[1mdeprecated\u001b[0;0m=False,\n",
      "\u001b[1mdeprecation_reasons\u001b[0;0m=None,\n",
      "\u001b[1mlast_updated\u001b[0;0m=datetime.datetime(2023, 11, 22, 19, 38, 43, 665000),\n",
      "\u001b[1morigins\u001b[0;0m=[PropertyOrigin(name='structure', task_id=MPID(mp-1961166), last_updated=datetime.datetime(2021, 3, 5, 21, 15, 52, 563000)), PropertyOrigin(name='energy', task_id=MPID(mp-1961166), last_updated=datetime.datetime(2023, 8, 3, 18, 51, 49, 269000)), PropertyOrigin(name='magnetism', task_id=MPID(mp-1961166), last_updated=datetime.datetime(2021, 3, 5, 21, 15, 52, 563000)), PropertyOrigin(name='dielectric', task_id=MPID(mp-1542694), last_updated=datetime.datetime(2020, 5, 9, 13, 39, 14, 574000))],\n",
      "\u001b[1mwarnings\u001b[0;0m=[],\n",
      "\u001b[1mstructure\u001b[0;0m=Structure Summary\n",
      "Lattice\n",
      "    abc : 5.042456865592828 5.042457267320669 5.0424577699287845\n",
      " angles : 58.118645181355646 58.11864724749343 58.118627323475415\n",
      " volume : 86.74916330018324\n",
      "      A : 4.2804641 -0.00172243 2.66533213\n",
      "      B : 1.47931971 4.01671422 2.66533213\n",
      "      C : -0.00247162 -0.00172244 5.04245687\n",
      "    pbc : True True True\n",
      "PeriodicSite: B (1.011, 2.628, 1.821) [0.00997, 0.6543, 0.00997]\n",
      "PeriodicSite: B (0.05581, 0.0389, 3.352) [0.00997, 0.00997, 0.6543]\n",
      "PeriodicSite: B (2.815, 0.0389, 1.821) [0.6543, 0.00997, 0.00997]\n",
      "PeriodicSite: B (2.942, 3.974, 8.552) [0.3457, 0.99, 0.99]\n",
      "PeriodicSite: B (4.747, 1.385, 8.552) [0.99, 0.3457, 0.99]\n",
      "PeriodicSite: B (5.702, 3.974, 7.021) [0.99, 0.99, 0.3457]\n",
      "PeriodicSite: B (1.878, 2.536, 3.384) [0.2206, 0.6316, 0.2206]\n",
      "PeriodicSite: B (1.269, 0.8845, 4.361) [0.2206, 0.2206, 0.6316]\n",
      "PeriodicSite: B (3.029, 0.8845, 3.384) [0.6316, 0.2206, 0.2206]\n",
      "PeriodicSite: B (2.728, 3.129, 6.99) [0.3684, 0.7794, 0.7794]\n",
      "PeriodicSite: B (3.879, 1.477, 6.99) [0.7794, 0.3684, 0.7794]\n",
      "PeriodicSite: B (4.488, 3.129, 6.012) [0.7794, 0.7794, 0.3684],\n",
      "\u001b[1mtask_ids\u001b[0;0m=[MPID(mp-1699562), MPID(mp-1542694), MPID(mp-2726554), MPID(mp-2655528), MPID(mp-2726645), MPID(mp-2624034), MPID(mp-2719806), MPID(mp-2719746), MPID(mp-2726508), MPID(mp-2473633), MPID(mp-2726513), MPID(mp-1961144), MPID(mp-2342125), MPID(mp-1440446), MPID(mp-1103329), MPID(mp-1800479), MPID(mp-2061707), MPID(mp-1536755), MPID(mp-2719735), MPID(mp-2473617), MPID(mp-1539219), MPID(mp-2719679), MPID(mp-2579050), MPID(mp-2655518), MPID(mp-2726677), MPID(mp-656737), MPID(mp-1102221), MPID(mp-2624070), MPID(mp-2726611), MPID(mp-669850), MPID(mp-660143), MPID(mp-2709024), MPID(mp-2473620), MPID(mp-2655501), MPID(mp-1961166), MPID(mp-1591475), MPID(mp-2655432), MPID(mp-160)],\n",
      "\u001b[1muncorrected_energy_per_atom\u001b[0;0m=-7.346354197499999,\n",
      "\u001b[1menergy_per_atom\u001b[0;0m=-7.346354197499999,\n",
      "\u001b[1mformation_energy_per_atom\u001b[0;0m=0.0,\n",
      "\u001b[1menergy_above_hull\u001b[0;0m=0.0,\n",
      "\u001b[1mis_stable\u001b[0;0m=True,\n",
      "\u001b[1mequilibrium_reaction_energy_per_atom\u001b[0;0m=0.0,\n",
      "\u001b[1mdecomposes_to\u001b[0;0m=None,\n",
      "\u001b[1mxas\u001b[0;0m=[XASSearchData(edge=<Edge.K: 'K'>, absorbing_element=Element B, spectrum_type=<Type.XANES: 'XANES'>), XASSearchData(edge=<Edge.K: 'K'>, absorbing_element=Element B, spectrum_type=<Type.XAFS: 'XAFS'>), XASSearchData(edge=<Edge.K: 'K'>, absorbing_element=Element B, spectrum_type=<Type.EXAFS: 'EXAFS'>)],\n",
      "\u001b[1mgrain_boundaries\u001b[0;0m=None,\n",
      "\u001b[1mband_gap\u001b[0;0m=1.4333999999999998,\n",
      "\u001b[1mcbm\u001b[0;0m=7.497,\n",
      "\u001b[1mvbm\u001b[0;0m=6.0636,\n",
      "\u001b[1mefermi\u001b[0;0m=6.15041714,\n",
      "\u001b[1mis_gap_direct\u001b[0;0m=False,\n",
      "\u001b[1mis_metal\u001b[0;0m=False,\n",
      "\u001b[1mes_source_calc_id\u001b[0;0m=None,\n",
      "\u001b[1mbandstructure\u001b[0;0m=BandstructureData(setyawan_curtarolo=BandStructureSummaryData(task_id=MPID(mp-1591475), band_gap=1.4333999999999998, cbm={'band_index': {'1': [18]}, 'kpoint_index': ['122'], 'kpoint': <pymatgen.electronic_structure.bandstructure.Kpoint object at 0x0000019A9916F550>, 'energy': 7.497, 'projections': {'1': [[0.0188, 0.0021, 0.0021, 0.0021, 0.0188, 0.0021, 0.0435, 0.0022, 0.0022, 0.0022, 0.0435, 0.0022], [0.0045, 0.0121, 0.0033, 0.0033, 0.0045, 0.0121, 0.0132, 0.0164, 0.0022, 0.0022, 0.0132, 0.0164], [0.0038, 0.0085, 0.0303, 0.0303, 0.0038, 0.0085, 0.0036, 0.0067, 0.0414, 0.0414, 0.0036, 0.0067], [0.0109, 0.0149, 0.002, 0.002, 0.0109, 0.0149, 0.0012, 0.0244, 0.0039, 0.0039, 0.0012, 0.0244], [0.0, 0.0, 0.0, 0.0, 0.0, 0.0, 0.0, 0.0, 0.0, 0.0, 0.0, 0.0], [0.0, 0.0, 0.0, 0.0, 0.0, 0.0, 0.0, 0.0, 0.0, 0.0, 0.0, 0.0], [0.0, 0.0, 0.0, 0.0, 0.0, 0.0, 0.0, 0.0, 0.0, 0.0, 0.0, 0.0], [0.0, 0.0, 0.0, 0.0, 0.0, 0.0, 0.0, 0.0, 0.0, 0.0, 0.0, 0.0], [0.0, 0.0, 0.0, 0.0, 0.0, 0.0, 0.0, 0.0, 0.0, 0.0, 0.0, 0.0]]}}, vbm={'band_index': {'1': [17]}, 'kpoint_index': [45, 46, 112], 'kpoint': <pymatgen.electronic_structure.bandstructure.Kpoint object at 0x0000019A991703D0>, 'energy': 6.0636, 'projections': {'1': [[0.0, 0.0, 0.0, 0.0, 0.0, 0.0, 0.0, 0.0, 0.0, 0.0, 0.0, 0.0], [0.0039, 0.0154, 0.0039, 0.0039, 0.0039, 0.0154, 0.0275, 0.11, 0.0275, 0.0275, 0.0275, 0.11], [0.0104, 0.0, 0.0104, 0.0104, 0.0104, 0.0, 0.074, 0.0, 0.074, 0.074, 0.074, 0.0], [0.0012, 0.0, 0.0012, 0.0012, 0.0012, 0.0, 0.0085, 0.0, 0.0085, 0.0085, 0.0085, 0.0], [0.0, 0.0, 0.0, 0.0, 0.0, 0.0, 0.0, 0.0, 0.0, 0.0, 0.0, 0.0], [0.0, 0.0, 0.0, 0.0, 0.0, 0.0, 0.0, 0.0, 0.0, 0.0, 0.0, 0.0], [0.0, 0.0, 0.0, 0.0, 0.0, 0.0, 0.0, 0.0, 0.0, 0.0, 0.0, 0.0], [0.0, 0.0, 0.0, 0.0, 0.0, 0.0, 0.0, 0.0, 0.0, 0.0, 0.0, 0.0], [0.0, 0.0, 0.0, 0.0, 0.0, 0.0, 0.0, 0.0, 0.0, 0.0, 0.0, 0.0]]}}, efermi=6.15041714, is_gap_direct=False, is_metal=False, magnetic_ordering='NM', nbands=64.0, equivalent_labels={'setyawan_curtarolo': {'latimer_munro': {'\\\\Gamma': 'Γ', 'B': 'r', 'B_1': 'r_{1}', 'F': 'd', 'L': 'a', 'P': 'q_{1}', 'P_1': 'q', 'P_2': 'q_{2}', 'Q': 'h', 'X': 'h_{1}', 'Z': 'g', 'L_1': 'a^{*}'}, 'hinuma': {'\\\\Gamma': 'GAMMA', 'B': 'H_4', 'B_1': 'H_6', 'F': 'F_2', 'L': 'L', 'L_1': 'L_4', 'P': 'M_4', 'P_1': 'M_6', 'P_2': 'M_8', 'Q': 'S_6', 'X': 'S_4', 'Z': 'T'}}, 'latimer_munro': {'setyawan_curtarolo': {'q': 'P_1', 'r': 'B', 'q_{1}': 'P', 'g': 'Z', 'h': 'Q', 'r_{1}': 'B_1', 'Γ': '\\\\Gamma', 'q_{2}': 'P_2', 'd': 'F', 'h_{1}': 'X', 'a': 'L', 'q_{3}': 'P^{*}'}, 'hinuma': {'q': 'M_6', 'r': 'H_4', 'q_{1}': 'M_4', 'g': 'T', 'h': 'S_6', 'r_{1}': 'H_6', 'Γ': 'GAMMA', 'q_{2}': 'M_8', 'd': 'F_2', 'h_{1}': 'S_4', 'a': 'L', 'q_{3}': 'M^{*}'}}, 'hinuma': {'setyawan_curtarolo': {'GAMMA': '\\\\Gamma', 'T': 'Z', 'L': 'L', 'L_4': 'L_1', 'F_2': 'F', 'S_4': 'X', 'S_6': 'Q', 'H_4': 'B', 'H_6': 'B_1', 'M_4': 'P', 'M_6': 'P_1', 'M_8': 'P_2', 'L_2': 'L^{*}', 'F': 'F^{*}', 'S_0': 'X^{*}', 'S_2': 'Q^{*}', 'H_0': 'B^{*}', 'H_2': 'B^{*}', 'M_0': 'P^{*}', 'M_2': 'P^{*}'}, 'latimer_munro': {'GAMMA': 'Γ', 'T': 'g', 'L': 'a', 'F_2': 'd', 'S_4': 'h_{1}', 'S_6': 'h', 'H_4': 'r', 'H_6': 'r_{1}', 'M_4': 'q_{1}', 'M_6': 'q', 'M_8': 'q_{2}', 'L_2': 'a^{*}', 'L_4': 'a^{*}', 'F': 'd^{*}', 'S_0': 'h^{*}', 'S_2': 'h^{*}', 'H_0': 'r^{*}', 'H_2': 'r^{*}', 'M_0': 'q^{*}', 'M_2': 'q^{*}'}}}, direct_gap=1.8270999999999997), hinuma=BandStructureSummaryData(task_id=MPID(mp-2061707), band_gap=1.4591000000000003, cbm={'band_index': {'1': [18]}, 'kpoint_index': [91, 92], 'kpoint': <pymatgen.electronic_structure.bandstructure.Kpoint object at 0x0000019A99170B10>, 'energy': 7.5227, 'projections': {'1': [[0.0007, 0.0007, 0.0076, 0.0076, 0.0007, 0.0007, 0.0048, 0.0048, 0.0278, 0.0278, 0.0048, 0.0048], [0.0032, 0.0092, 0.0, 0.0, 0.0032, 0.0092, 0.0001, 0.0194, 0.0125, 0.0125, 0.0001, 0.0194], [0.0309, 0.0055, 0.0054, 0.0054, 0.0309, 0.0055, 0.0344, 0.0038, 0.0004, 0.0004, 0.0344, 0.0038], [0.0052, 0.0246, 0.0442, 0.0442, 0.0052, 0.0246, 0.0007, 0.012, 0.0201, 0.0201, 0.0007, 0.012], [0.0, 0.0, 0.0, 0.0, 0.0, 0.0, 0.0, 0.0, 0.0, 0.0, 0.0, 0.0], [0.0, 0.0, 0.0, 0.0, 0.0, 0.0, 0.0, 0.0, 0.0, 0.0, 0.0, 0.0], [0.0, 0.0, 0.0, 0.0, 0.0, 0.0, 0.0, 0.0, 0.0, 0.0, 0.0, 0.0], [0.0, 0.0, 0.0, 0.0, 0.0, 0.0, 0.0, 0.0, 0.0, 0.0, 0.0, 0.0], [0.0, 0.0, 0.0, 0.0, 0.0, 0.0, 0.0, 0.0, 0.0, 0.0, 0.0, 0.0]]}}, vbm={'band_index': {'1': [17]}, 'kpoint_index': [16, 17], 'kpoint': <pymatgen.electronic_structure.bandstructure.Kpoint object at 0x0000019A99170F90>, 'energy': 6.0636, 'projections': {'1': [[0.0, 0.0, 0.0, 0.0, 0.0, 0.0, 0.0, 0.0, 0.0, 0.0, 0.0, 0.0], [0.0039, 0.0154, 0.0039, 0.0039, 0.0039, 0.0154, 0.0275, 0.11, 0.0275, 0.0275, 0.0275, 0.11], [0.0104, 0.0, 0.0104, 0.0104, 0.0104, 0.0, 0.074, 0.0, 0.074, 0.074, 0.074, 0.0], [0.0012, 0.0, 0.0012, 0.0012, 0.0012, 0.0, 0.0085, 0.0, 0.0085, 0.0085, 0.0085, 0.0], [0.0, 0.0, 0.0, 0.0, 0.0, 0.0, 0.0, 0.0, 0.0, 0.0, 0.0, 0.0], [0.0, 0.0, 0.0, 0.0, 0.0, 0.0, 0.0, 0.0, 0.0, 0.0, 0.0, 0.0], [0.0, 0.0, 0.0, 0.0, 0.0, 0.0, 0.0, 0.0, 0.0, 0.0, 0.0, 0.0], [0.0, 0.0, 0.0, 0.0, 0.0, 0.0, 0.0, 0.0, 0.0, 0.0, 0.0, 0.0], [0.0, 0.0, 0.0, 0.0, 0.0, 0.0, 0.0, 0.0, 0.0, 0.0, 0.0, 0.0]]}}, efermi=6.11049037, is_gap_direct=False, is_metal=False, magnetic_ordering='NM', nbands=64.0, equivalent_labels={'setyawan_curtarolo': {'latimer_munro': {'\\\\Gamma': 'Γ', 'B': 'r', 'B_1': 'r_{1}', 'F': 'd', 'L': 'a', 'P': 'q_{1}', 'P_1': 'q', 'P_2': 'q_{2}', 'Q': 'h', 'X': 'h_{1}', 'Z': 'g', 'L_1': 'a^{*}'}, 'hinuma': {'\\\\Gamma': 'GAMMA', 'B': 'H_4', 'B_1': 'H_6', 'F': 'F_2', 'L': 'L', 'L_1': 'L_4', 'P': 'M_4', 'P_1': 'M_6', 'P_2': 'M_8', 'Q': 'S_6', 'X': 'S_4', 'Z': 'T'}}, 'latimer_munro': {'setyawan_curtarolo': {'q': 'P_1', 'r': 'B', 'q_{1}': 'P', 'g': 'Z', 'h': 'Q', 'r_{1}': 'B_1', 'Γ': '\\\\Gamma', 'q_{2}': 'P_2', 'd': 'F', 'h_{1}': 'X', 'a': 'L', 'q_{3}': 'P^{*}'}, 'hinuma': {'q': 'M_6', 'r': 'H_4', 'q_{1}': 'M_4', 'g': 'T', 'h': 'S_6', 'r_{1}': 'H_6', 'Γ': 'GAMMA', 'q_{2}': 'M_8', 'd': 'F_2', 'h_{1}': 'S_4', 'a': 'L', 'q_{3}': 'M^{*}'}}, 'hinuma': {'setyawan_curtarolo': {'GAMMA': '\\\\Gamma', 'T': 'Z', 'L': 'L', 'L_4': 'L_1', 'F_2': 'F', 'S_4': 'X', 'S_6': 'Q', 'H_4': 'B', 'H_6': 'B_1', 'M_4': 'P', 'M_6': 'P_1', 'M_8': 'P_2', 'L_2': 'L^{*}', 'F': 'F^{*}', 'S_0': 'X^{*}', 'S_2': 'Q^{*}', 'H_0': 'B^{*}', 'H_2': 'B^{*}', 'M_0': 'P^{*}', 'M_2': 'P^{*}'}, 'latimer_munro': {'GAMMA': 'Γ', 'T': 'g', 'L': 'a', 'F_2': 'd', 'S_4': 'h_{1}', 'S_6': 'h', 'H_4': 'r', 'H_6': 'r_{1}', 'M_4': 'q_{1}', 'M_6': 'q', 'M_8': 'q_{2}', 'L_2': 'a^{*}', 'L_4': 'a^{*}', 'F': 'd^{*}', 'S_0': 'h^{*}', 'S_2': 'h^{*}', 'H_0': 'r^{*}', 'H_2': 'r^{*}', 'M_0': 'q^{*}', 'M_2': 'q^{*}'}}}, direct_gap=1.8270999999999997), latimer_munro=BandStructureSummaryData(task_id=MPID(mp-2342125), band_gap=1.4332000000000003, cbm={'band_index': {'1': [18]}, 'kpoint_index': ['104'], 'kpoint': <pymatgen.electronic_structure.bandstructure.Kpoint object at 0x0000019A991716D0>, 'energy': 7.4968, 'projections': {'1': [[0.0011, 0.0169, 0.0011, 0.0011, 0.0011, 0.0169, 0.0028, 0.0419, 0.0028, 0.0028, 0.0028, 0.0419], [0.0221, 0.0, 0.0221, 0.0221, 0.0221, 0.0, 0.0276, 0.0, 0.0276, 0.0276, 0.0276, 0.0], [0.0002, 0.0049, 0.0002, 0.0002, 0.0002, 0.0049, 0.0004, 0.0211, 0.0004, 0.0004, 0.0004, 0.0211], [0.0131, 0.0246, 0.0131, 0.0131, 0.0131, 0.0246, 0.0163, 0.0006, 0.0163, 0.0163, 0.0163, 0.0006], [0.0, 0.0, 0.0, 0.0, 0.0, 0.0, 0.0, 0.0, 0.0, 0.0, 0.0, 0.0], [0.0, 0.0, 0.0, 0.0, 0.0, 0.0, 0.0, 0.0, 0.0, 0.0, 0.0, 0.0], [0.0, 0.0, 0.0, 0.0, 0.0, 0.0, 0.0, 0.0, 0.0, 0.0, 0.0, 0.0], [0.0, 0.0, 0.0, 0.0, 0.0, 0.0, 0.0, 0.0, 0.0, 0.0, 0.0, 0.0], [0.0, 0.0, 0.0, 0.0, 0.0, 0.0, 0.0, 0.0, 0.0, 0.0, 0.0, 0.0]]}}, vbm={'band_index': {'1': [17]}, 'kpoint_index': [53, 54, 69], 'kpoint': <pymatgen.electronic_structure.bandstructure.Kpoint object at 0x0000019A99171B50>, 'energy': 6.0636, 'projections': {'1': [[0.0, 0.0, 0.0, 0.0, 0.0, 0.0, 0.0, 0.0, 0.0, 0.0, 0.0, 0.0], [0.0039, 0.0154, 0.0039, 0.0039, 0.0039, 0.0154, 0.0275, 0.11, 0.0275, 0.0275, 0.0275, 0.11], [0.0104, 0.0, 0.0104, 0.0104, 0.0104, 0.0, 0.074, 0.0, 0.074, 0.074, 0.074, 0.0], [0.0012, 0.0, 0.0012, 0.0012, 0.0012, 0.0, 0.0085, 0.0, 0.0085, 0.0085, 0.0085, 0.0], [0.0, 0.0, 0.0, 0.0, 0.0, 0.0, 0.0, 0.0, 0.0, 0.0, 0.0, 0.0], [0.0, 0.0, 0.0, 0.0, 0.0, 0.0, 0.0, 0.0, 0.0, 0.0, 0.0, 0.0], [0.0, 0.0, 0.0, 0.0, 0.0, 0.0, 0.0, 0.0, 0.0, 0.0, 0.0, 0.0], [0.0, 0.0, 0.0, 0.0, 0.0, 0.0, 0.0, 0.0, 0.0, 0.0, 0.0, 0.0], [0.0, 0.0, 0.0, 0.0, 0.0, 0.0, 0.0, 0.0, 0.0, 0.0, 0.0, 0.0]]}}, efermi=6.11140837, is_gap_direct=False, is_metal=False, magnetic_ordering='NM', nbands=64.0, equivalent_labels={'setyawan_curtarolo': {'latimer_munro': {'\\\\Gamma': 'Γ', 'B': 'r', 'B_1': 'r_{1}', 'F': 'd', 'L': 'a', 'P': 'q_{1}', 'P_1': 'q', 'P_2': 'q_{2}', 'Q': 'h', 'X': 'h_{1}', 'Z': 'g', 'L_1': 'a^{*}'}, 'hinuma': {'\\\\Gamma': 'GAMMA', 'B': 'H_4', 'B_1': 'H_6', 'F': 'F_2', 'L': 'L', 'L_1': 'L_4', 'P': 'M_4', 'P_1': 'M_6', 'P_2': 'M_8', 'Q': 'S_6', 'X': 'S_4', 'Z': 'T'}}, 'latimer_munro': {'setyawan_curtarolo': {'q': 'P_1', 'r': 'B', 'q_{1}': 'P', 'g': 'Z', 'h': 'Q', 'r_{1}': 'B_1', 'Γ': '\\\\Gamma', 'q_{2}': 'P_2', 'd': 'F', 'h_{1}': 'X', 'a': 'L', 'q_{3}': 'P^{*}'}, 'hinuma': {'q': 'M_6', 'r': 'H_4', 'q_{1}': 'M_4', 'g': 'T', 'h': 'S_6', 'r_{1}': 'H_6', 'Γ': 'GAMMA', 'q_{2}': 'M_8', 'd': 'F_2', 'h_{1}': 'S_4', 'a': 'L', 'q_{3}': 'M^{*}'}}, 'hinuma': {'setyawan_curtarolo': {'GAMMA': '\\\\Gamma', 'T': 'Z', 'L': 'L', 'L_4': 'L_1', 'F_2': 'F', 'S_4': 'X', 'S_6': 'Q', 'H_4': 'B', 'H_6': 'B_1', 'M_4': 'P', 'M_6': 'P_1', 'M_8': 'P_2', 'L_2': 'L^{*}', 'F': 'F^{*}', 'S_0': 'X^{*}', 'S_2': 'Q^{*}', 'H_0': 'B^{*}', 'H_2': 'B^{*}', 'M_0': 'P^{*}', 'M_2': 'P^{*}'}, 'latimer_munro': {'GAMMA': 'Γ', 'T': 'g', 'L': 'a', 'F_2': 'd', 'S_4': 'h_{1}', 'S_6': 'h', 'H_4': 'r', 'H_6': 'r_{1}', 'M_4': 'q_{1}', 'M_6': 'q', 'M_8': 'q_{2}', 'L_2': 'a^{*}', 'L_4': 'a^{*}', 'F': 'd^{*}', 'S_0': 'h^{*}', 'S_2': 'h^{*}', 'H_0': 'r^{*}', 'H_2': 'r^{*}', 'M_0': 'q^{*}', 'M_2': 'q^{*}'}}}, direct_gap=1.8270999999999997)),\n",
      "\u001b[1mdos\u001b[0;0m=DosData(total={'1': DosSummaryData(task_id=MPID(mp-660143), band_gap=1.5538999999999996, cbm=7.4472, vbm=5.8933, efermi=6.10843561, spin_polarization=None)}, elemental={Element B: {'total': {'1': DosSummaryData(task_id=MPID(mp-660143), band_gap=1.5538999999999996, cbm=7.4472, vbm=5.8933, efermi=6.10843561, spin_polarization=None)}, 's': {'1': DosSummaryData(task_id=MPID(mp-660143), band_gap=1.7683, cbm=7.4472, vbm=5.6789, efermi=6.10843561, spin_polarization=None)}, 'p': {'1': DosSummaryData(task_id=MPID(mp-660143), band_gap=1.5538999999999996, cbm=7.4472, vbm=5.8933, efermi=6.10843561, spin_polarization=None)}, 'd': {'1': DosSummaryData(task_id=MPID(mp-660143), band_gap=32.1495, cbm=20.5749, vbm=-11.5746, efermi=6.10843561, spin_polarization=None)}}}, orbital={'s': {'1': DosSummaryData(task_id=MPID(mp-660143), band_gap=1.7683, cbm=7.4472, vbm=5.6789, efermi=6.10843561, spin_polarization=None)}, 'p': {'1': DosSummaryData(task_id=MPID(mp-660143), band_gap=1.5538999999999996, cbm=7.4472, vbm=5.8933, efermi=6.10843561, spin_polarization=None)}, 'd': {'1': DosSummaryData(task_id=MPID(mp-660143), band_gap=32.1495, cbm=20.5749, vbm=-11.5746, efermi=6.10843561, spin_polarization=None)}}, magnetic_ordering='NM'),\n",
      "\u001b[1mdos_energy_up\u001b[0;0m=None,\n",
      "\u001b[1mdos_energy_down\u001b[0;0m=None,\n",
      "\u001b[1mis_magnetic\u001b[0;0m=False,\n",
      "\u001b[1mordering\u001b[0;0m='NM',\n",
      "\u001b[1mtotal_magnetization\u001b[0;0m=0.0,\n",
      "\u001b[1mtotal_magnetization_normalized_vol\u001b[0;0m=0.0,\n",
      "\u001b[1mtotal_magnetization_normalized_formula_units\u001b[0;0m=0.0,\n",
      "\u001b[1mnum_magnetic_sites\u001b[0;0m=0,\n",
      "\u001b[1mnum_unique_magnetic_sites\u001b[0;0m=0,\n",
      "\u001b[1mtypes_of_magnetic_species\u001b[0;0m=[],\n",
      "\u001b[1mbulk_modulus\u001b[0;0m={'voigt': 212.455, 'reuss': 207.99, 'vrh': 210.223},\n",
      "\u001b[1mshear_modulus\u001b[0;0m={'voigt': 184.651, 'reuss': 160.132, 'vrh': 172.392},\n",
      "\u001b[1muniversal_anisotropy\u001b[0;0m=0.787,\n",
      "\u001b[1mhomogeneous_poisson\u001b[0;0m=0.178,\n",
      "\u001b[1me_total\u001b[0;0m=9.52007649666667,\n",
      "\u001b[1me_ionic\u001b[0;0m=0.13876186999999984,\n",
      "\u001b[1me_electronic\u001b[0;0m=9.38131462666667,\n",
      "\u001b[1mn\u001b[0;0m=3.0628931791145884,\n",
      "\u001b[1me_ij_max\u001b[0;0m=None,\n",
      "\u001b[1mweighted_surface_energy_EV_PER_ANG2\u001b[0;0m=0.14449076152143703,\n",
      "\u001b[1mweighted_surface_energy\u001b[0;0m=2.3149971124619633,\n",
      "\u001b[1mweighted_work_function\u001b[0;0m=4.670143928650368,\n",
      "\u001b[1msurface_anisotropy\u001b[0;0m=0.1403329369434092,\n",
      "\u001b[1mshape_factor\u001b[0;0m=5.414214979486624,\n",
      "\u001b[1mhas_reconstructed\u001b[0;0m=False,\n",
      "\u001b[1mpossible_species\u001b[0;0m=[],\n",
      "\u001b[1mhas_props\u001b[0;0m={'materials': True, 'thermo': True, 'xas': True, 'grain_boundaries': False, 'chemenv': True, 'electronic_structure': True, 'absorption': False, 'bandstructure': True, 'dos': True, 'magnetism': True, 'elasticity': True, 'dielectric': True, 'piezoelectric': False, 'surface_properties': True, 'oxi_states': True, 'provenance': True, 'charge_density': True, 'eos': True, 'phonon': True, 'insertion_electrodes': False, 'substrates': True},\n",
      "\u001b[1mtheoretical\u001b[0;0m=False,\n",
      "\u001b[1mdatabase_IDs\u001b[0;0m={'icsd': ['icsd-108026', 'icsd-426926', 'icsd-94429', 'icsd-62747', 'icsd-181823', 'icsd-56992', 'icsd-659240', 'icsd-26487']},\n",
      "\u001b[1mfields_not_requested\u001b[0;0m=[]\n",
      ")]\n"
     ]
    }
   ],
   "source": [
    "docs = mpr.summary.search(material_ids=[material]) #type: list\n",
    "print(docs)"
   ]
  },
  {
   "cell_type": "code",
   "execution_count": 4,
   "id": "9042dfa1-6a2c-42ab-8ca1-1497bc1dae59",
   "metadata": {},
   "outputs": [
    {
     "data": {
      "text/plain": [
       "False"
      ]
     },
     "execution_count": 4,
     "metadata": {},
     "output_type": "execute_result"
    }
   ],
   "source": [
    "docs[0].is_metal"
   ]
  },
  {
   "cell_type": "code",
   "execution_count": 5,
   "id": "dfb794a4-ff37-4b01-88cd-34ef568780fa",
   "metadata": {},
   "outputs": [
    {
     "data": {
      "text/plain": [
       "'B'"
      ]
     },
     "execution_count": 5,
     "metadata": {},
     "output_type": "execute_result"
    }
   ],
   "source": [
    "docs[0].formula_pretty"
   ]
  },
  {
   "cell_type": "markdown",
   "id": "6ba8174a-70e0-4edc-aa52-b55f8bb8e04f",
   "metadata": {},
   "source": [
    "## BandGap\n",
    "\n",
    "El archivo *docs* es una lista y en su primer elemento tiene toda la información necesaria. \n",
    "\n",
    "Luego, para llamar únicamente al dato del BandGap se utiliza **.band_gap**."
   ]
  },
  {
   "cell_type": "code",
   "execution_count": 3,
   "id": "44ff21c7-f19b-4c60-8dde-d7bb8d2fe9c5",
   "metadata": {},
   "outputs": [
    {
     "name": "stdout",
     "output_type": "stream",
     "text": [
      "1.4333999999999998\n"
     ]
    }
   ],
   "source": [
    "band_gap=docs[0].band_gap\n",
    "print(band_gap)"
   ]
  },
  {
   "cell_type": "markdown",
   "id": "68ca6508-f7e5-44cf-bea7-60f1977850e8",
   "metadata": {},
   "source": [
    "## Estructura\n",
    "\n",
    "Para la estructura del material se usa **.structure** para extraer los parámetros de red y los ángulos."
   ]
  },
  {
   "cell_type": "code",
   "execution_count": 4,
   "id": "07153e91-0c43-4248-993d-a9a5370bb723",
   "metadata": {},
   "outputs": [
    {
     "name": "stdout",
     "output_type": "stream",
     "text": [
      "Full Formula (B12)\n",
      "Reduced Formula: B\n",
      "abc   :   5.042457   5.042457   5.042458\n",
      "angles:  58.118645  58.118647  58.118627\n",
      "pbc   :       True       True       True\n",
      "Sites (12)\n",
      "  #  SP           a         b         c    magmom\n",
      "---  ----  --------  --------  --------  --------\n",
      "  0  B     0.00997   0.654285  0.00997          0\n",
      "  1  B     0.00997   0.00997   0.654285         0\n",
      "  2  B     0.654285  0.00997   0.00997          0\n",
      "  3  B     0.345715  0.99003   0.99003          0\n",
      "  4  B     0.99003   0.345715  0.99003          0\n",
      "  5  B     0.99003   0.99003   0.345715         0\n",
      "  6  B     0.220566  0.631635  0.220566        -0\n",
      "  7  B     0.220566  0.220566  0.631635        -0\n",
      "  8  B     0.631635  0.220566  0.220566        -0\n",
      "  9  B     0.368365  0.779434  0.779434        -0\n",
      " 10  B     0.779434  0.368365  0.779434        -0\n",
      " 11  B     0.779434  0.779434  0.368365        -0\n"
     ]
    }
   ],
   "source": [
    "structure=docs[0].structure  #type:<class 'pymatgen.core.structure.Structure'>\n",
    "print(structure)"
   ]
  },
  {
   "cell_type": "markdown",
   "id": "042dacf0-4f57-4863-952a-8e5216e9b926",
   "metadata": {},
   "source": [
    "Sin embargo, el formato obtenido es del tipo *\"pymatgen.core.structure.Structure\"* y es poco manipulable, por lo que se debe emplear **.lattice.abc** y **lattice.angles** para obtener los valores deseados y guardarlos en listas."
   ]
  },
  {
   "cell_type": "code",
   "execution_count": 5,
   "id": "dba76f69-1ff3-4b53-96d2-c718771e974d",
   "metadata": {},
   "outputs": [
    {
     "name": "stdout",
     "output_type": "stream",
     "text": [
      "abc: (5.042456865592828, 5.042457267320669, 5.0424577699287845)\n",
      "αβɣ: (58.118645181355646, 58.11864724749343, 58.118627323475415)\n",
      "volume: 86.74916330018324\n"
     ]
    }
   ],
   "source": [
    "print('abc:',structure.lattice.abc)\n",
    "print('αβɣ:',structure.lattice.angles)\n",
    "print('volume:',docs[0].volume)"
   ]
  },
  {
   "cell_type": "markdown",
   "id": "33ac062d-e2a9-4c9b-b1e3-f03587d85203",
   "metadata": {},
   "source": [
    "## Coeficiente de absorción\n",
    "\n",
    "Aquí se llaman a todas las características del espectro de absorción óptica del material y se guardan en el archivo *absorption*."
   ]
  },
  {
   "cell_type": "code",
   "execution_count": 6,
   "id": "5c9f7b1e-7e6b-415a-9422-c577a4db5948",
   "metadata": {},
   "outputs": [
    {
     "name": "stderr",
     "output_type": "stream",
     "text": [
      "Accessing absorption data through MPRester.absorption is deprecated. Please use MPRester.materials.absorption instead.\n"
     ]
    },
    {
     "data": {
      "application/vnd.jupyter.widget-view+json": {
       "model_id": "fa772524a31b45ef9d2b459e9bfaf23f",
       "version_major": 2,
       "version_minor": 0
      },
      "text/plain": [
       "Retrieving AbsorptionDoc documents: 0it [00:00, ?it/s]"
      ]
     },
     "metadata": {},
     "output_type": "display_data"
    }
   ],
   "source": [
    "absorption = mpr.absorption.search(material_ids=[material], fields=[\"energies\", \"absorption_coefficient\"])"
   ]
  },
  {
   "cell_type": "markdown",
   "id": "568739f1-8120-48c1-b6cf-08ee09ac51e7",
   "metadata": {},
   "source": [
    "El tipo de archivo de *absorption* es *\"MPDataDoc\"* y contienen dos listas, una de los valores de energía y otra de los coeficientes de absorción."
   ]
  },
  {
   "cell_type": "code",
   "execution_count": 7,
   "id": "e8c50fc8-4afe-4772-bd17-0bdfaeed53db",
   "metadata": {},
   "outputs": [
    {
     "name": "stdout",
     "output_type": "stream",
     "text": [
      "nan\n"
     ]
    }
   ],
   "source": [
    "if len(absorption)==0:\n",
    "    coeficiente_abs=np.nan\n",
    "else:\n",
    "    absorption=absorption\n",
    "    energia=absorption[0].energies\n",
    "    absorcion=absorption[0].absorption_coefficient\n",
    "    x=np.array(absorption[0].energies)\n",
    "    y=np.array(absorption[0].absorption_coefficient)\n",
    "    coeficiente_abs=np.interp(2.479647809,x,y)\n",
    "print(coeficiente_abs)"
   ]
  }
 ],
 "metadata": {
  "kernelspec": {
   "display_name": "Python 3 (ipykernel)",
   "language": "python",
   "name": "python3"
  },
  "language_info": {
   "codemirror_mode": {
    "name": "ipython",
    "version": 3
   },
   "file_extension": ".py",
   "mimetype": "text/x-python",
   "name": "python",
   "nbconvert_exporter": "python",
   "pygments_lexer": "ipython3",
   "version": "3.11.5"
  }
 },
 "nbformat": 4,
 "nbformat_minor": 5
}
