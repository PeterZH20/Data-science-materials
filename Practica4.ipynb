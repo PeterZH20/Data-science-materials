{
 "cells": [
  {
   "cell_type": "code",
   "execution_count": 1,
   "id": "d0fab696-dbd1-411d-acff-e753c761d190",
   "metadata": {},
   "outputs": [],
   "source": [
    "import matplotlib.pyplot as plt\n",
    "import pandas as pd\n",
    "import numpy as np\n",
    "from mp_api.client import MPRester\n",
    "key=\"ebMdddl0cG3BZj3VyN9qMb6Ilj4Dl6dz\"\n",
    "mpr = MPRester(key)"
   ]
  },
  {
   "cell_type": "code",
   "execution_count": 2,
   "id": "dfe9ecab-372a-4f61-a942-5e63eef76e93",
   "metadata": {},
   "outputs": [
    {
     "name": "stderr",
     "output_type": "stream",
     "text": [
      "C:\\Users\\ZAPATA\\AppData\\Local\\Temp\\ipykernel_15492\\788511024.py:18: DeprecationWarning: Accessing summary data through MPRester.summary is deprecated. Please use MPRester.materials.summary instead.\n",
      "  docs = mpr.summary.search(material_ids=[material]) #type: list\n"
     ]
    },
    {
     "data": {
      "application/vnd.jupyter.widget-view+json": {
       "model_id": "3d3b61361c294807aeb41c579a815a98",
       "version_major": 2,
       "version_minor": 0
      },
      "text/plain": [
       "Retrieving SummaryDoc documents:   0%|          | 0/1 [00:00<?, ?it/s]"
      ]
     },
     "metadata": {},
     "output_type": "display_data"
    },
    {
     "name": "stderr",
     "output_type": "stream",
     "text": [
      "C:\\Users\\ZAPATA\\AppData\\Local\\Temp\\ipykernel_15492\\788511024.py:29: DeprecationWarning: Accessing absorption data through MPRester.absorption is deprecated. Please use MPRester.materials.absorption instead.\n",
      "  absorption = mpr.absorption.search(material_ids=[material], fields=[\"energies\", \"absorption_coefficient\"])\n"
     ]
    },
    {
     "data": {
      "application/vnd.jupyter.widget-view+json": {
       "model_id": "562a3213600f4b86bdc7f7c7b7365693",
       "version_major": 2,
       "version_minor": 0
      },
      "text/plain": [
       "Retrieving AbsorptionDoc documents: 0it [00:00, ?it/s]"
      ]
     },
     "metadata": {},
     "output_type": "display_data"
    },
    {
     "data": {
      "application/vnd.jupyter.widget-view+json": {
       "model_id": "1bfa86fb58b047389df1f953957cd73b",
       "version_major": 2,
       "version_minor": 0
      },
      "text/plain": [
       "Retrieving SummaryDoc documents:   0%|          | 0/1 [00:00<?, ?it/s]"
      ]
     },
     "metadata": {},
     "output_type": "display_data"
    },
    {
     "data": {
      "application/vnd.jupyter.widget-view+json": {
       "model_id": "fb07bc6549044147b6f9f2facb15d5a8",
       "version_major": 2,
       "version_minor": 0
      },
      "text/plain": [
       "Retrieving AbsorptionDoc documents: 0it [00:00, ?it/s]"
      ]
     },
     "metadata": {},
     "output_type": "display_data"
    },
    {
     "data": {
      "application/vnd.jupyter.widget-view+json": {
       "model_id": "f6eeb65eadd44935acd2e71f2e2d974d",
       "version_major": 2,
       "version_minor": 0
      },
      "text/plain": [
       "Retrieving SummaryDoc documents:   0%|          | 0/1 [00:00<?, ?it/s]"
      ]
     },
     "metadata": {},
     "output_type": "display_data"
    },
    {
     "data": {
      "application/vnd.jupyter.widget-view+json": {
       "model_id": "2319e34696624e2f9634ca128838aaf0",
       "version_major": 2,
       "version_minor": 0
      },
      "text/plain": [
       "Retrieving AbsorptionDoc documents: 0it [00:00, ?it/s]"
      ]
     },
     "metadata": {},
     "output_type": "display_data"
    },
    {
     "data": {
      "application/vnd.jupyter.widget-view+json": {
       "model_id": "1340bff4b8e74f829caf2675cefb76a8",
       "version_major": 2,
       "version_minor": 0
      },
      "text/plain": [
       "Retrieving SummaryDoc documents:   0%|          | 0/1 [00:00<?, ?it/s]"
      ]
     },
     "metadata": {},
     "output_type": "display_data"
    },
    {
     "data": {
      "application/vnd.jupyter.widget-view+json": {
       "model_id": "74cb876d60734ebb964895e6dbaa98b7",
       "version_major": 2,
       "version_minor": 0
      },
      "text/plain": [
       "Retrieving AbsorptionDoc documents: 0it [00:00, ?it/s]"
      ]
     },
     "metadata": {},
     "output_type": "display_data"
    },
    {
     "data": {
      "application/vnd.jupyter.widget-view+json": {
       "model_id": "ac7dd8746dc74fa99c9c8a29b88e4416",
       "version_major": 2,
       "version_minor": 0
      },
      "text/plain": [
       "Retrieving SummaryDoc documents:   0%|          | 0/1 [00:00<?, ?it/s]"
      ]
     },
     "metadata": {},
     "output_type": "display_data"
    },
    {
     "data": {
      "application/vnd.jupyter.widget-view+json": {
       "model_id": "2252ef20131b458f8a4a757a952d6b9a",
       "version_major": 2,
       "version_minor": 0
      },
      "text/plain": [
       "Retrieving AbsorptionDoc documents: 0it [00:00, ?it/s]"
      ]
     },
     "metadata": {},
     "output_type": "display_data"
    },
    {
     "data": {
      "application/vnd.jupyter.widget-view+json": {
       "model_id": "c644b713133d459da31a89952c497da8",
       "version_major": 2,
       "version_minor": 0
      },
      "text/plain": [
       "Retrieving SummaryDoc documents:   0%|          | 0/1 [00:00<?, ?it/s]"
      ]
     },
     "metadata": {},
     "output_type": "display_data"
    },
    {
     "data": {
      "application/vnd.jupyter.widget-view+json": {
       "model_id": "ff6d4fd1d79a49a685c88c86d6091be5",
       "version_major": 2,
       "version_minor": 0
      },
      "text/plain": [
       "Retrieving AbsorptionDoc documents: 0it [00:00, ?it/s]"
      ]
     },
     "metadata": {},
     "output_type": "display_data"
    },
    {
     "data": {
      "application/vnd.jupyter.widget-view+json": {
       "model_id": "8e4331381a58413d9c14d1f89e9c6fb8",
       "version_major": 2,
       "version_minor": 0
      },
      "text/plain": [
       "Retrieving SummaryDoc documents:   0%|          | 0/1 [00:00<?, ?it/s]"
      ]
     },
     "metadata": {},
     "output_type": "display_data"
    },
    {
     "data": {
      "application/vnd.jupyter.widget-view+json": {
       "model_id": "236742fa852748ce973f6b8835da717a",
       "version_major": 2,
       "version_minor": 0
      },
      "text/plain": [
       "Retrieving AbsorptionDoc documents: 0it [00:00, ?it/s]"
      ]
     },
     "metadata": {},
     "output_type": "display_data"
    },
    {
     "data": {
      "application/vnd.jupyter.widget-view+json": {
       "model_id": "a90f16f63bd14ebfa63c96c038a7a1d0",
       "version_major": 2,
       "version_minor": 0
      },
      "text/plain": [
       "Retrieving SummaryDoc documents:   0%|          | 0/1 [00:00<?, ?it/s]"
      ]
     },
     "metadata": {},
     "output_type": "display_data"
    },
    {
     "data": {
      "application/vnd.jupyter.widget-view+json": {
       "model_id": "f08ad449b4084bd7a310aade5c515408",
       "version_major": 2,
       "version_minor": 0
      },
      "text/plain": [
       "Retrieving AbsorptionDoc documents: 0it [00:00, ?it/s]"
      ]
     },
     "metadata": {},
     "output_type": "display_data"
    },
    {
     "data": {
      "application/vnd.jupyter.widget-view+json": {
       "model_id": "7666b20d81ce49bd845e1f81ac717243",
       "version_major": 2,
       "version_minor": 0
      },
      "text/plain": [
       "Retrieving SummaryDoc documents:   0%|          | 0/1 [00:00<?, ?it/s]"
      ]
     },
     "metadata": {},
     "output_type": "display_data"
    },
    {
     "data": {
      "application/vnd.jupyter.widget-view+json": {
       "model_id": "d6d080628f45405885a2e3fd9b68111e",
       "version_major": 2,
       "version_minor": 0
      },
      "text/plain": [
       "Retrieving AbsorptionDoc documents: 0it [00:00, ?it/s]"
      ]
     },
     "metadata": {},
     "output_type": "display_data"
    },
    {
     "data": {
      "application/vnd.jupyter.widget-view+json": {
       "model_id": "1aba59ed0c534c0299dd6d5657aff08a",
       "version_major": 2,
       "version_minor": 0
      },
      "text/plain": [
       "Retrieving SummaryDoc documents:   0%|          | 0/1 [00:00<?, ?it/s]"
      ]
     },
     "metadata": {},
     "output_type": "display_data"
    },
    {
     "data": {
      "application/vnd.jupyter.widget-view+json": {
       "model_id": "fd1e1b5d80124eba97b8562fa700b1e5",
       "version_major": 2,
       "version_minor": 0
      },
      "text/plain": [
       "Retrieving AbsorptionDoc documents: 0it [00:00, ?it/s]"
      ]
     },
     "metadata": {},
     "output_type": "display_data"
    },
    {
     "data": {
      "application/vnd.jupyter.widget-view+json": {
       "model_id": "62032ae53d664e6387b896fdabce5e20",
       "version_major": 2,
       "version_minor": 0
      },
      "text/plain": [
       "Retrieving SummaryDoc documents:   0%|          | 0/1 [00:00<?, ?it/s]"
      ]
     },
     "metadata": {},
     "output_type": "display_data"
    },
    {
     "data": {
      "application/vnd.jupyter.widget-view+json": {
       "model_id": "0b7681dbac2347cfab8eea2c5a41b60f",
       "version_major": 2,
       "version_minor": 0
      },
      "text/plain": [
       "Retrieving AbsorptionDoc documents: 0it [00:00, ?it/s]"
      ]
     },
     "metadata": {},
     "output_type": "display_data"
    },
    {
     "data": {
      "application/vnd.jupyter.widget-view+json": {
       "model_id": "441a22c05f584b44a06b7682931a9c32",
       "version_major": 2,
       "version_minor": 0
      },
      "text/plain": [
       "Retrieving SummaryDoc documents:   0%|          | 0/1 [00:00<?, ?it/s]"
      ]
     },
     "metadata": {},
     "output_type": "display_data"
    },
    {
     "data": {
      "application/vnd.jupyter.widget-view+json": {
       "model_id": "ce88061c56534d379d167cd9bb8115c4",
       "version_major": 2,
       "version_minor": 0
      },
      "text/plain": [
       "Retrieving AbsorptionDoc documents: 0it [00:00, ?it/s]"
      ]
     },
     "metadata": {},
     "output_type": "display_data"
    },
    {
     "data": {
      "application/vnd.jupyter.widget-view+json": {
       "model_id": "b88d0c28a9ba4523a018c8ecf778871a",
       "version_major": 2,
       "version_minor": 0
      },
      "text/plain": [
       "Retrieving SummaryDoc documents:   0%|          | 0/1 [00:00<?, ?it/s]"
      ]
     },
     "metadata": {},
     "output_type": "display_data"
    },
    {
     "data": {
      "application/vnd.jupyter.widget-view+json": {
       "model_id": "2d44c0cbc60b4eeca3057ebcf0b5cfd9",
       "version_major": 2,
       "version_minor": 0
      },
      "text/plain": [
       "Retrieving AbsorptionDoc documents: 0it [00:00, ?it/s]"
      ]
     },
     "metadata": {},
     "output_type": "display_data"
    },
    {
     "data": {
      "application/vnd.jupyter.widget-view+json": {
       "model_id": "b72c5dbb4a3c4fc6aadd97c636c37162",
       "version_major": 2,
       "version_minor": 0
      },
      "text/plain": [
       "Retrieving SummaryDoc documents:   0%|          | 0/1 [00:00<?, ?it/s]"
      ]
     },
     "metadata": {},
     "output_type": "display_data"
    },
    {
     "data": {
      "application/vnd.jupyter.widget-view+json": {
       "model_id": "69142e9b7b7d446c84d139a9780f0cf0",
       "version_major": 2,
       "version_minor": 0
      },
      "text/plain": [
       "Retrieving AbsorptionDoc documents:   0%|          | 0/1 [00:00<?, ?it/s]"
      ]
     },
     "metadata": {},
     "output_type": "display_data"
    },
    {
     "data": {
      "application/vnd.jupyter.widget-view+json": {
       "model_id": "abc14428c1b8410db2df7beefb9bb5e7",
       "version_major": 2,
       "version_minor": 0
      },
      "text/plain": [
       "Retrieving SummaryDoc documents:   0%|          | 0/1 [00:00<?, ?it/s]"
      ]
     },
     "metadata": {},
     "output_type": "display_data"
    },
    {
     "data": {
      "application/vnd.jupyter.widget-view+json": {
       "model_id": "71cd640a94804bfd87e5429b4b68676d",
       "version_major": 2,
       "version_minor": 0
      },
      "text/plain": [
       "Retrieving AbsorptionDoc documents: 0it [00:00, ?it/s]"
      ]
     },
     "metadata": {},
     "output_type": "display_data"
    },
    {
     "data": {
      "application/vnd.jupyter.widget-view+json": {
       "model_id": "76c7cbd742484896a150f07eebab31d0",
       "version_major": 2,
       "version_minor": 0
      },
      "text/plain": [
       "Retrieving SummaryDoc documents:   0%|          | 0/1 [00:00<?, ?it/s]"
      ]
     },
     "metadata": {},
     "output_type": "display_data"
    },
    {
     "data": {
      "application/vnd.jupyter.widget-view+json": {
       "model_id": "8cf4cd226b114d21954d902b1f38228c",
       "version_major": 2,
       "version_minor": 0
      },
      "text/plain": [
       "Retrieving AbsorptionDoc documents: 0it [00:00, ?it/s]"
      ]
     },
     "metadata": {},
     "output_type": "display_data"
    },
    {
     "data": {
      "application/vnd.jupyter.widget-view+json": {
       "model_id": "b38acdcb374f4cc5b0bfec17649c5d93",
       "version_major": 2,
       "version_minor": 0
      },
      "text/plain": [
       "Retrieving SummaryDoc documents:   0%|          | 0/1 [00:00<?, ?it/s]"
      ]
     },
     "metadata": {},
     "output_type": "display_data"
    },
    {
     "data": {
      "application/vnd.jupyter.widget-view+json": {
       "model_id": "2b9d729ff82c4aa5bc9ec6335a55e750",
       "version_major": 2,
       "version_minor": 0
      },
      "text/plain": [
       "Retrieving AbsorptionDoc documents: 0it [00:00, ?it/s]"
      ]
     },
     "metadata": {},
     "output_type": "display_data"
    },
    {
     "data": {
      "application/vnd.jupyter.widget-view+json": {
       "model_id": "614466e889cf46568514dc13d0c277ad",
       "version_major": 2,
       "version_minor": 0
      },
      "text/plain": [
       "Retrieving SummaryDoc documents:   0%|          | 0/1 [00:00<?, ?it/s]"
      ]
     },
     "metadata": {},
     "output_type": "display_data"
    },
    {
     "data": {
      "application/vnd.jupyter.widget-view+json": {
       "model_id": "996e0695160d40f8b16bfcdfc16e2299",
       "version_major": 2,
       "version_minor": 0
      },
      "text/plain": [
       "Retrieving AbsorptionDoc documents: 0it [00:00, ?it/s]"
      ]
     },
     "metadata": {},
     "output_type": "display_data"
    },
    {
     "data": {
      "application/vnd.jupyter.widget-view+json": {
       "model_id": "481f13c9817c4ebcb6d82734ec8c42f5",
       "version_major": 2,
       "version_minor": 0
      },
      "text/plain": [
       "Retrieving SummaryDoc documents:   0%|          | 0/1 [00:00<?, ?it/s]"
      ]
     },
     "metadata": {},
     "output_type": "display_data"
    },
    {
     "data": {
      "application/vnd.jupyter.widget-view+json": {
       "model_id": "f6122a4e41a24a83a1304dc3f4934693",
       "version_major": 2,
       "version_minor": 0
      },
      "text/plain": [
       "Retrieving AbsorptionDoc documents: 0it [00:00, ?it/s]"
      ]
     },
     "metadata": {},
     "output_type": "display_data"
    },
    {
     "data": {
      "application/vnd.jupyter.widget-view+json": {
       "model_id": "be58006160154764a656cc79851018b3",
       "version_major": 2,
       "version_minor": 0
      },
      "text/plain": [
       "Retrieving SummaryDoc documents:   0%|          | 0/1 [00:00<?, ?it/s]"
      ]
     },
     "metadata": {},
     "output_type": "display_data"
    },
    {
     "data": {
      "application/vnd.jupyter.widget-view+json": {
       "model_id": "78b4e76b4afb4fbe816bc8da4d5b7bd1",
       "version_major": 2,
       "version_minor": 0
      },
      "text/plain": [
       "Retrieving AbsorptionDoc documents: 0it [00:00, ?it/s]"
      ]
     },
     "metadata": {},
     "output_type": "display_data"
    },
    {
     "data": {
      "application/vnd.jupyter.widget-view+json": {
       "model_id": "e03a2794cd234ebf8487d1786048ad5d",
       "version_major": 2,
       "version_minor": 0
      },
      "text/plain": [
       "Retrieving SummaryDoc documents:   0%|          | 0/1 [00:00<?, ?it/s]"
      ]
     },
     "metadata": {},
     "output_type": "display_data"
    },
    {
     "data": {
      "application/vnd.jupyter.widget-view+json": {
       "model_id": "0535c24293fa404e80812289f67f4e08",
       "version_major": 2,
       "version_minor": 0
      },
      "text/plain": [
       "Retrieving AbsorptionDoc documents: 0it [00:00, ?it/s]"
      ]
     },
     "metadata": {},
     "output_type": "display_data"
    },
    {
     "data": {
      "application/vnd.jupyter.widget-view+json": {
       "model_id": "ee19daae345d46ddbaf28ff424abfb4c",
       "version_major": 2,
       "version_minor": 0
      },
      "text/plain": [
       "Retrieving SummaryDoc documents:   0%|          | 0/1 [00:00<?, ?it/s]"
      ]
     },
     "metadata": {},
     "output_type": "display_data"
    },
    {
     "data": {
      "application/vnd.jupyter.widget-view+json": {
       "model_id": "4eb2a200f2a540cda07a5aa35df51bc6",
       "version_major": 2,
       "version_minor": 0
      },
      "text/plain": [
       "Retrieving AbsorptionDoc documents: 0it [00:00, ?it/s]"
      ]
     },
     "metadata": {},
     "output_type": "display_data"
    },
    {
     "data": {
      "application/vnd.jupyter.widget-view+json": {
       "model_id": "e174ef5eecb14de2a9f955502ee19abc",
       "version_major": 2,
       "version_minor": 0
      },
      "text/plain": [
       "Retrieving SummaryDoc documents:   0%|          | 0/1 [00:00<?, ?it/s]"
      ]
     },
     "metadata": {},
     "output_type": "display_data"
    },
    {
     "data": {
      "application/vnd.jupyter.widget-view+json": {
       "model_id": "434da9024bd54022bcbf0ea102329230",
       "version_major": 2,
       "version_minor": 0
      },
      "text/plain": [
       "Retrieving AbsorptionDoc documents: 0it [00:00, ?it/s]"
      ]
     },
     "metadata": {},
     "output_type": "display_data"
    },
    {
     "data": {
      "application/vnd.jupyter.widget-view+json": {
       "model_id": "e159356d93594a76a41fb906de688433",
       "version_major": 2,
       "version_minor": 0
      },
      "text/plain": [
       "Retrieving SummaryDoc documents:   0%|          | 0/1 [00:00<?, ?it/s]"
      ]
     },
     "metadata": {},
     "output_type": "display_data"
    },
    {
     "data": {
      "application/vnd.jupyter.widget-view+json": {
       "model_id": "0d0d7dd55a53442080ee71b0e1bec045",
       "version_major": 2,
       "version_minor": 0
      },
      "text/plain": [
       "Retrieving AbsorptionDoc documents: 0it [00:00, ?it/s]"
      ]
     },
     "metadata": {},
     "output_type": "display_data"
    },
    {
     "data": {
      "application/vnd.jupyter.widget-view+json": {
       "model_id": "d3210c7028c34cdbad5ff69b9646ea7c",
       "version_major": 2,
       "version_minor": 0
      },
      "text/plain": [
       "Retrieving SummaryDoc documents:   0%|          | 0/1 [00:00<?, ?it/s]"
      ]
     },
     "metadata": {},
     "output_type": "display_data"
    },
    {
     "data": {
      "application/vnd.jupyter.widget-view+json": {
       "model_id": "b84f2ed5f2ab4cc29fbd377665bceb50",
       "version_major": 2,
       "version_minor": 0
      },
      "text/plain": [
       "Retrieving AbsorptionDoc documents: 0it [00:00, ?it/s]"
      ]
     },
     "metadata": {},
     "output_type": "display_data"
    },
    {
     "data": {
      "application/vnd.jupyter.widget-view+json": {
       "model_id": "846fb9c89ef04589917b3bb4769d8d7a",
       "version_major": 2,
       "version_minor": 0
      },
      "text/plain": [
       "Retrieving SummaryDoc documents:   0%|          | 0/1 [00:00<?, ?it/s]"
      ]
     },
     "metadata": {},
     "output_type": "display_data"
    },
    {
     "data": {
      "application/vnd.jupyter.widget-view+json": {
       "model_id": "40bcc8dc333c4b4f980e593fea52dcf1",
       "version_major": 2,
       "version_minor": 0
      },
      "text/plain": [
       "Retrieving AbsorptionDoc documents: 0it [00:00, ?it/s]"
      ]
     },
     "metadata": {},
     "output_type": "display_data"
    },
    {
     "data": {
      "application/vnd.jupyter.widget-view+json": {
       "model_id": "591a3e7f63e8471e9c249ac321350638",
       "version_major": 2,
       "version_minor": 0
      },
      "text/plain": [
       "Retrieving SummaryDoc documents:   0%|          | 0/1 [00:00<?, ?it/s]"
      ]
     },
     "metadata": {},
     "output_type": "display_data"
    },
    {
     "data": {
      "application/vnd.jupyter.widget-view+json": {
       "model_id": "9edc122286664ebd8ca6e5692e74a8d9",
       "version_major": 2,
       "version_minor": 0
      },
      "text/plain": [
       "Retrieving AbsorptionDoc documents: 0it [00:00, ?it/s]"
      ]
     },
     "metadata": {},
     "output_type": "display_data"
    },
    {
     "data": {
      "application/vnd.jupyter.widget-view+json": {
       "model_id": "fd5c58be96ee4a6dbae674d7471b0550",
       "version_major": 2,
       "version_minor": 0
      },
      "text/plain": [
       "Retrieving SummaryDoc documents:   0%|          | 0/1 [00:00<?, ?it/s]"
      ]
     },
     "metadata": {},
     "output_type": "display_data"
    },
    {
     "data": {
      "application/vnd.jupyter.widget-view+json": {
       "model_id": "58327a79e081472895e84683664883e8",
       "version_major": 2,
       "version_minor": 0
      },
      "text/plain": [
       "Retrieving AbsorptionDoc documents: 0it [00:00, ?it/s]"
      ]
     },
     "metadata": {},
     "output_type": "display_data"
    },
    {
     "data": {
      "application/vnd.jupyter.widget-view+json": {
       "model_id": "c529eb64faf6408db922d8fe56b56491",
       "version_major": 2,
       "version_minor": 0
      },
      "text/plain": [
       "Retrieving SummaryDoc documents:   0%|          | 0/1 [00:00<?, ?it/s]"
      ]
     },
     "metadata": {},
     "output_type": "display_data"
    },
    {
     "data": {
      "application/vnd.jupyter.widget-view+json": {
       "model_id": "b59aa7954249456ca3fbf4c88a24f37a",
       "version_major": 2,
       "version_minor": 0
      },
      "text/plain": [
       "Retrieving AbsorptionDoc documents: 0it [00:00, ?it/s]"
      ]
     },
     "metadata": {},
     "output_type": "display_data"
    },
    {
     "data": {
      "application/vnd.jupyter.widget-view+json": {
       "model_id": "767a31671f594242b1ca86d38b14c55b",
       "version_major": 2,
       "version_minor": 0
      },
      "text/plain": [
       "Retrieving SummaryDoc documents:   0%|          | 0/1 [00:00<?, ?it/s]"
      ]
     },
     "metadata": {},
     "output_type": "display_data"
    },
    {
     "data": {
      "application/vnd.jupyter.widget-view+json": {
       "model_id": "407f3b554a5647ea98f64ce7d57b701a",
       "version_major": 2,
       "version_minor": 0
      },
      "text/plain": [
       "Retrieving AbsorptionDoc documents: 0it [00:00, ?it/s]"
      ]
     },
     "metadata": {},
     "output_type": "display_data"
    },
    {
     "data": {
      "application/vnd.jupyter.widget-view+json": {
       "model_id": "b307689cb675498485993dd4017fddf3",
       "version_major": 2,
       "version_minor": 0
      },
      "text/plain": [
       "Retrieving SummaryDoc documents:   0%|          | 0/1 [00:00<?, ?it/s]"
      ]
     },
     "metadata": {},
     "output_type": "display_data"
    },
    {
     "data": {
      "application/vnd.jupyter.widget-view+json": {
       "model_id": "5bcdfd7483aa43fbbbd47a1c323d5e04",
       "version_major": 2,
       "version_minor": 0
      },
      "text/plain": [
       "Retrieving AbsorptionDoc documents: 0it [00:00, ?it/s]"
      ]
     },
     "metadata": {},
     "output_type": "display_data"
    },
    {
     "data": {
      "application/vnd.jupyter.widget-view+json": {
       "model_id": "0698a1923ac0440e815cfcc9029c32db",
       "version_major": 2,
       "version_minor": 0
      },
      "text/plain": [
       "Retrieving SummaryDoc documents:   0%|          | 0/1 [00:00<?, ?it/s]"
      ]
     },
     "metadata": {},
     "output_type": "display_data"
    },
    {
     "data": {
      "application/vnd.jupyter.widget-view+json": {
       "model_id": "f55b6df445bb4ca380d946b316143d6a",
       "version_major": 2,
       "version_minor": 0
      },
      "text/plain": [
       "Retrieving AbsorptionDoc documents: 0it [00:00, ?it/s]"
      ]
     },
     "metadata": {},
     "output_type": "display_data"
    },
    {
     "data": {
      "application/vnd.jupyter.widget-view+json": {
       "model_id": "9ae16ee68d5c4239bbebd7d1ef233d3c",
       "version_major": 2,
       "version_minor": 0
      },
      "text/plain": [
       "Retrieving SummaryDoc documents:   0%|          | 0/1 [00:00<?, ?it/s]"
      ]
     },
     "metadata": {},
     "output_type": "display_data"
    },
    {
     "data": {
      "application/vnd.jupyter.widget-view+json": {
       "model_id": "624aa2f1e70d4820aa407aa376f23438",
       "version_major": 2,
       "version_minor": 0
      },
      "text/plain": [
       "Retrieving AbsorptionDoc documents: 0it [00:00, ?it/s]"
      ]
     },
     "metadata": {},
     "output_type": "display_data"
    },
    {
     "data": {
      "application/vnd.jupyter.widget-view+json": {
       "model_id": "700c14956e1f468fa52da734328a3280",
       "version_major": 2,
       "version_minor": 0
      },
      "text/plain": [
       "Retrieving SummaryDoc documents:   0%|          | 0/1 [00:00<?, ?it/s]"
      ]
     },
     "metadata": {},
     "output_type": "display_data"
    },
    {
     "data": {
      "application/vnd.jupyter.widget-view+json": {
       "model_id": "7e37c226fc0f423bad2fdf921f009113",
       "version_major": 2,
       "version_minor": 0
      },
      "text/plain": [
       "Retrieving AbsorptionDoc documents: 0it [00:00, ?it/s]"
      ]
     },
     "metadata": {},
     "output_type": "display_data"
    },
    {
     "data": {
      "application/vnd.jupyter.widget-view+json": {
       "model_id": "aeb91e49a80346de842434cdb5903817",
       "version_major": 2,
       "version_minor": 0
      },
      "text/plain": [
       "Retrieving SummaryDoc documents:   0%|          | 0/1 [00:00<?, ?it/s]"
      ]
     },
     "metadata": {},
     "output_type": "display_data"
    },
    {
     "data": {
      "application/vnd.jupyter.widget-view+json": {
       "model_id": "b5d92cc9bffd47468a06024796a50ec4",
       "version_major": 2,
       "version_minor": 0
      },
      "text/plain": [
       "Retrieving AbsorptionDoc documents: 0it [00:00, ?it/s]"
      ]
     },
     "metadata": {},
     "output_type": "display_data"
    },
    {
     "data": {
      "application/vnd.jupyter.widget-view+json": {
       "model_id": "4a713a476e2f498a87fadf63796ad0b8",
       "version_major": 2,
       "version_minor": 0
      },
      "text/plain": [
       "Retrieving SummaryDoc documents:   0%|          | 0/1 [00:00<?, ?it/s]"
      ]
     },
     "metadata": {},
     "output_type": "display_data"
    },
    {
     "data": {
      "application/vnd.jupyter.widget-view+json": {
       "model_id": "56104f0dfc314852990c4154fcdce729",
       "version_major": 2,
       "version_minor": 0
      },
      "text/plain": [
       "Retrieving AbsorptionDoc documents: 0it [00:00, ?it/s]"
      ]
     },
     "metadata": {},
     "output_type": "display_data"
    },
    {
     "data": {
      "application/vnd.jupyter.widget-view+json": {
       "model_id": "639f9d17a1b441ac9dc3df9889190803",
       "version_major": 2,
       "version_minor": 0
      },
      "text/plain": [
       "Retrieving SummaryDoc documents:   0%|          | 0/1 [00:00<?, ?it/s]"
      ]
     },
     "metadata": {},
     "output_type": "display_data"
    },
    {
     "data": {
      "application/vnd.jupyter.widget-view+json": {
       "model_id": "b2f70da525ec48079534b8a1ad78899e",
       "version_major": 2,
       "version_minor": 0
      },
      "text/plain": [
       "Retrieving AbsorptionDoc documents: 0it [00:00, ?it/s]"
      ]
     },
     "metadata": {},
     "output_type": "display_data"
    },
    {
     "data": {
      "application/vnd.jupyter.widget-view+json": {
       "model_id": "dc7a7672146b4b7eb7fc0ef03dfb12b2",
       "version_major": 2,
       "version_minor": 0
      },
      "text/plain": [
       "Retrieving SummaryDoc documents:   0%|          | 0/1 [00:00<?, ?it/s]"
      ]
     },
     "metadata": {},
     "output_type": "display_data"
    },
    {
     "data": {
      "application/vnd.jupyter.widget-view+json": {
       "model_id": "c1024cd4ee81496b97d141755f230c6e",
       "version_major": 2,
       "version_minor": 0
      },
      "text/plain": [
       "Retrieving AbsorptionDoc documents: 0it [00:00, ?it/s]"
      ]
     },
     "metadata": {},
     "output_type": "display_data"
    },
    {
     "data": {
      "application/vnd.jupyter.widget-view+json": {
       "model_id": "9fd9d22f6fd5451cb3d9134d95c3ffd1",
       "version_major": 2,
       "version_minor": 0
      },
      "text/plain": [
       "Retrieving SummaryDoc documents:   0%|          | 0/1 [00:00<?, ?it/s]"
      ]
     },
     "metadata": {},
     "output_type": "display_data"
    },
    {
     "data": {
      "application/vnd.jupyter.widget-view+json": {
       "model_id": "5c26a61d2c3644199d9e334908f4321c",
       "version_major": 2,
       "version_minor": 0
      },
      "text/plain": [
       "Retrieving AbsorptionDoc documents: 0it [00:00, ?it/s]"
      ]
     },
     "metadata": {},
     "output_type": "display_data"
    },
    {
     "data": {
      "application/vnd.jupyter.widget-view+json": {
       "model_id": "b69f9fb8c9754ceabe1467ed7b6469db",
       "version_major": 2,
       "version_minor": 0
      },
      "text/plain": [
       "Retrieving SummaryDoc documents:   0%|          | 0/1 [00:00<?, ?it/s]"
      ]
     },
     "metadata": {},
     "output_type": "display_data"
    },
    {
     "data": {
      "application/vnd.jupyter.widget-view+json": {
       "model_id": "ea3112697aea4e51837471783617134a",
       "version_major": 2,
       "version_minor": 0
      },
      "text/plain": [
       "Retrieving AbsorptionDoc documents: 0it [00:00, ?it/s]"
      ]
     },
     "metadata": {},
     "output_type": "display_data"
    },
    {
     "data": {
      "application/vnd.jupyter.widget-view+json": {
       "model_id": "0636dfaa39af4d90bf46a2bb926bf67e",
       "version_major": 2,
       "version_minor": 0
      },
      "text/plain": [
       "Retrieving SummaryDoc documents:   0%|          | 0/1 [00:00<?, ?it/s]"
      ]
     },
     "metadata": {},
     "output_type": "display_data"
    },
    {
     "data": {
      "application/vnd.jupyter.widget-view+json": {
       "model_id": "42cbd38d14ac401489ab4d25bdfbed53",
       "version_major": 2,
       "version_minor": 0
      },
      "text/plain": [
       "Retrieving AbsorptionDoc documents: 0it [00:00, ?it/s]"
      ]
     },
     "metadata": {},
     "output_type": "display_data"
    },
    {
     "data": {
      "application/vnd.jupyter.widget-view+json": {
       "model_id": "b5edbd8d23ea43cc8cee501499272915",
       "version_major": 2,
       "version_minor": 0
      },
      "text/plain": [
       "Retrieving SummaryDoc documents:   0%|          | 0/1 [00:00<?, ?it/s]"
      ]
     },
     "metadata": {},
     "output_type": "display_data"
    },
    {
     "data": {
      "application/vnd.jupyter.widget-view+json": {
       "model_id": "eb7b49278aba416e9d2d4d22bb3d04c9",
       "version_major": 2,
       "version_minor": 0
      },
      "text/plain": [
       "Retrieving AbsorptionDoc documents: 0it [00:00, ?it/s]"
      ]
     },
     "metadata": {},
     "output_type": "display_data"
    },
    {
     "data": {
      "application/vnd.jupyter.widget-view+json": {
       "model_id": "ef626ed6d392417c97b7e10b7aeaa63c",
       "version_major": 2,
       "version_minor": 0
      },
      "text/plain": [
       "Retrieving SummaryDoc documents:   0%|          | 0/1 [00:00<?, ?it/s]"
      ]
     },
     "metadata": {},
     "output_type": "display_data"
    },
    {
     "data": {
      "application/vnd.jupyter.widget-view+json": {
       "model_id": "39d7398a83b5478f9dd93e978f62988b",
       "version_major": 2,
       "version_minor": 0
      },
      "text/plain": [
       "Retrieving AbsorptionDoc documents: 0it [00:00, ?it/s]"
      ]
     },
     "metadata": {},
     "output_type": "display_data"
    },
    {
     "data": {
      "application/vnd.jupyter.widget-view+json": {
       "model_id": "83802cc465d341f6a1ff594b0d2b8de9",
       "version_major": 2,
       "version_minor": 0
      },
      "text/plain": [
       "Retrieving SummaryDoc documents:   0%|          | 0/1 [00:00<?, ?it/s]"
      ]
     },
     "metadata": {},
     "output_type": "display_data"
    },
    {
     "data": {
      "application/vnd.jupyter.widget-view+json": {
       "model_id": "9cd859290f904dd58c0a3e123f23f8d8",
       "version_major": 2,
       "version_minor": 0
      },
      "text/plain": [
       "Retrieving AbsorptionDoc documents: 0it [00:00, ?it/s]"
      ]
     },
     "metadata": {},
     "output_type": "display_data"
    },
    {
     "data": {
      "application/vnd.jupyter.widget-view+json": {
       "model_id": "d34e0d1f7366476f9e59b04141d661b7",
       "version_major": 2,
       "version_minor": 0
      },
      "text/plain": [
       "Retrieving SummaryDoc documents:   0%|          | 0/1 [00:00<?, ?it/s]"
      ]
     },
     "metadata": {},
     "output_type": "display_data"
    },
    {
     "data": {
      "application/vnd.jupyter.widget-view+json": {
       "model_id": "dcd3f3985698452eba90c66782cffbe9",
       "version_major": 2,
       "version_minor": 0
      },
      "text/plain": [
       "Retrieving AbsorptionDoc documents: 0it [00:00, ?it/s]"
      ]
     },
     "metadata": {},
     "output_type": "display_data"
    },
    {
     "data": {
      "application/vnd.jupyter.widget-view+json": {
       "model_id": "14dc47c2d27d4d079d15330c3d73441d",
       "version_major": 2,
       "version_minor": 0
      },
      "text/plain": [
       "Retrieving SummaryDoc documents:   0%|          | 0/1 [00:00<?, ?it/s]"
      ]
     },
     "metadata": {},
     "output_type": "display_data"
    },
    {
     "data": {
      "application/vnd.jupyter.widget-view+json": {
       "model_id": "35b46a44fde74da886d7ed7ddec23e51",
       "version_major": 2,
       "version_minor": 0
      },
      "text/plain": [
       "Retrieving AbsorptionDoc documents: 0it [00:00, ?it/s]"
      ]
     },
     "metadata": {},
     "output_type": "display_data"
    },
    {
     "data": {
      "application/vnd.jupyter.widget-view+json": {
       "model_id": "21bdb5ab57a14e76b0194c0818ba6eb8",
       "version_major": 2,
       "version_minor": 0
      },
      "text/plain": [
       "Retrieving SummaryDoc documents:   0%|          | 0/1 [00:00<?, ?it/s]"
      ]
     },
     "metadata": {},
     "output_type": "display_data"
    },
    {
     "data": {
      "application/vnd.jupyter.widget-view+json": {
       "model_id": "0c056cd02a2540a59c68c49e32ea63a9",
       "version_major": 2,
       "version_minor": 0
      },
      "text/plain": [
       "Retrieving AbsorptionDoc documents: 0it [00:00, ?it/s]"
      ]
     },
     "metadata": {},
     "output_type": "display_data"
    },
    {
     "data": {
      "application/vnd.jupyter.widget-view+json": {
       "model_id": "be4929e16dee479b9272d7e75d385252",
       "version_major": 2,
       "version_minor": 0
      },
      "text/plain": [
       "Retrieving SummaryDoc documents:   0%|          | 0/1 [00:00<?, ?it/s]"
      ]
     },
     "metadata": {},
     "output_type": "display_data"
    },
    {
     "data": {
      "application/vnd.jupyter.widget-view+json": {
       "model_id": "ddd2bc9c36504e0f91b9a3813d8b4a23",
       "version_major": 2,
       "version_minor": 0
      },
      "text/plain": [
       "Retrieving AbsorptionDoc documents: 0it [00:00, ?it/s]"
      ]
     },
     "metadata": {},
     "output_type": "display_data"
    },
    {
     "data": {
      "application/vnd.jupyter.widget-view+json": {
       "model_id": "46b6addae4624b1ba6be3c78b426ab02",
       "version_major": 2,
       "version_minor": 0
      },
      "text/plain": [
       "Retrieving SummaryDoc documents:   0%|          | 0/1 [00:00<?, ?it/s]"
      ]
     },
     "metadata": {},
     "output_type": "display_data"
    },
    {
     "data": {
      "application/vnd.jupyter.widget-view+json": {
       "model_id": "d9b8017bbcb44052a1e71863812e8bec",
       "version_major": 2,
       "version_minor": 0
      },
      "text/plain": [
       "Retrieving AbsorptionDoc documents: 0it [00:00, ?it/s]"
      ]
     },
     "metadata": {},
     "output_type": "display_data"
    },
    {
     "data": {
      "application/vnd.jupyter.widget-view+json": {
       "model_id": "0fd39e84db2a475d95d8282b6bf6685d",
       "version_major": 2,
       "version_minor": 0
      },
      "text/plain": [
       "Retrieving SummaryDoc documents:   0%|          | 0/1 [00:00<?, ?it/s]"
      ]
     },
     "metadata": {},
     "output_type": "display_data"
    },
    {
     "data": {
      "application/vnd.jupyter.widget-view+json": {
       "model_id": "e6712cb996b7453daf56f3df72456e75",
       "version_major": 2,
       "version_minor": 0
      },
      "text/plain": [
       "Retrieving AbsorptionDoc documents: 0it [00:00, ?it/s]"
      ]
     },
     "metadata": {},
     "output_type": "display_data"
    },
    {
     "data": {
      "text/html": [
       "<div>\n",
       "<style scoped>\n",
       "    .dataframe tbody tr th:only-of-type {\n",
       "        vertical-align: middle;\n",
       "    }\n",
       "\n",
       "    .dataframe tbody tr th {\n",
       "        vertical-align: top;\n",
       "    }\n",
       "\n",
       "    .dataframe thead th {\n",
       "        text-align: right;\n",
       "    }\n",
       "</style>\n",
       "<table border=\"1\" class=\"dataframe\">\n",
       "  <thead>\n",
       "    <tr style=\"text-align: right;\">\n",
       "      <th></th>\n",
       "      <th>id</th>\n",
       "      <th>Formule</th>\n",
       "      <th>BG</th>\n",
       "      <th>IM</th>\n",
       "      <th>a</th>\n",
       "      <th>b</th>\n",
       "      <th>c</th>\n",
       "      <th>alfa</th>\n",
       "      <th>beta</th>\n",
       "      <th>gamma</th>\n",
       "      <th>CA</th>\n",
       "    </tr>\n",
       "  </thead>\n",
       "  <tbody>\n",
       "    <tr>\n",
       "      <th>0</th>\n",
       "      <td>mp-1</td>\n",
       "      <td>Cs</td>\n",
       "      <td>0.0000</td>\n",
       "      <td>True</td>\n",
       "      <td>5.418661</td>\n",
       "      <td>5.418661</td>\n",
       "      <td>5.418660</td>\n",
       "      <td>109.471226</td>\n",
       "      <td>109.471227</td>\n",
       "      <td>109.471213</td>\n",
       "      <td>NaN</td>\n",
       "    </tr>\n",
       "    <tr>\n",
       "      <th>1</th>\n",
       "      <td>mp-2</td>\n",
       "      <td>Pd</td>\n",
       "      <td>0.0000</td>\n",
       "      <td>True</td>\n",
       "      <td>2.769950</td>\n",
       "      <td>2.769951</td>\n",
       "      <td>2.769950</td>\n",
       "      <td>59.999998</td>\n",
       "      <td>59.999983</td>\n",
       "      <td>60.000004</td>\n",
       "      <td>NaN</td>\n",
       "    </tr>\n",
       "    <tr>\n",
       "      <th>2</th>\n",
       "      <td>mp-3</td>\n",
       "      <td>Cs</td>\n",
       "      <td>0.0000</td>\n",
       "      <td>True</td>\n",
       "      <td>5.107693</td>\n",
       "      <td>5.107692</td>\n",
       "      <td>10.253232</td>\n",
       "      <td>104.422913</td>\n",
       "      <td>104.422916</td>\n",
       "      <td>89.999987</td>\n",
       "      <td>NaN</td>\n",
       "    </tr>\n",
       "    <tr>\n",
       "      <th>3</th>\n",
       "      <td>mp-4</td>\n",
       "      <td>Nd</td>\n",
       "      <td>0.0000</td>\n",
       "      <td>True</td>\n",
       "      <td>3.594818</td>\n",
       "      <td>3.594820</td>\n",
       "      <td>3.594820</td>\n",
       "      <td>109.471212</td>\n",
       "      <td>109.471223</td>\n",
       "      <td>109.471225</td>\n",
       "      <td>NaN</td>\n",
       "    </tr>\n",
       "    <tr>\n",
       "      <th>4</th>\n",
       "      <td>mp-7</td>\n",
       "      <td>S</td>\n",
       "      <td>2.2079</td>\n",
       "      <td>False</td>\n",
       "      <td>6.439929</td>\n",
       "      <td>6.439930</td>\n",
       "      <td>6.439930</td>\n",
       "      <td>114.751858</td>\n",
       "      <td>114.751848</td>\n",
       "      <td>114.751835</td>\n",
       "      <td>NaN</td>\n",
       "    </tr>\n",
       "    <tr>\n",
       "      <th>5</th>\n",
       "      <td>mp-8</td>\n",
       "      <td>Re</td>\n",
       "      <td>0.0000</td>\n",
       "      <td>True</td>\n",
       "      <td>2.765336</td>\n",
       "      <td>2.765337</td>\n",
       "      <td>4.473577</td>\n",
       "      <td>90.000000</td>\n",
       "      <td>90.000000</td>\n",
       "      <td>119.999987</td>\n",
       "      <td>NaN</td>\n",
       "    </tr>\n",
       "    <tr>\n",
       "      <th>6</th>\n",
       "      <td>mp-9</td>\n",
       "      <td>Y</td>\n",
       "      <td>0.0000</td>\n",
       "      <td>True</td>\n",
       "      <td>3.609061</td>\n",
       "      <td>3.609061</td>\n",
       "      <td>3.609060</td>\n",
       "      <td>59.999985</td>\n",
       "      <td>59.999985</td>\n",
       "      <td>59.999984</td>\n",
       "      <td>NaN</td>\n",
       "    </tr>\n",
       "    <tr>\n",
       "      <th>7</th>\n",
       "      <td>mp-10</td>\n",
       "      <td>As</td>\n",
       "      <td>0.0000</td>\n",
       "      <td>True</td>\n",
       "      <td>3.823583</td>\n",
       "      <td>3.823584</td>\n",
       "      <td>3.823584</td>\n",
       "      <td>59.999999</td>\n",
       "      <td>59.999994</td>\n",
       "      <td>60.000005</td>\n",
       "      <td>NaN</td>\n",
       "    </tr>\n",
       "    <tr>\n",
       "      <th>8</th>\n",
       "      <td>mp-11</td>\n",
       "      <td>As</td>\n",
       "      <td>0.0000</td>\n",
       "      <td>True</td>\n",
       "      <td>4.292047</td>\n",
       "      <td>4.292047</td>\n",
       "      <td>4.292046</td>\n",
       "      <td>51.878293</td>\n",
       "      <td>51.878304</td>\n",
       "      <td>51.878291</td>\n",
       "      <td>NaN</td>\n",
       "    </tr>\n",
       "    <tr>\n",
       "      <th>9</th>\n",
       "      <td>mp-13</td>\n",
       "      <td>Fe</td>\n",
       "      <td>0.0000</td>\n",
       "      <td>True</td>\n",
       "      <td>2.477813</td>\n",
       "      <td>2.477809</td>\n",
       "      <td>4.054295</td>\n",
       "      <td>90.000038</td>\n",
       "      <td>90.000320</td>\n",
       "      <td>109.469837</td>\n",
       "      <td>NaN</td>\n",
       "    </tr>\n",
       "    <tr>\n",
       "      <th>10</th>\n",
       "      <td>mp-14</td>\n",
       "      <td>Se</td>\n",
       "      <td>0.8765</td>\n",
       "      <td>False</td>\n",
       "      <td>4.504819</td>\n",
       "      <td>4.504823</td>\n",
       "      <td>4.978796</td>\n",
       "      <td>89.991118</td>\n",
       "      <td>90.004517</td>\n",
       "      <td>120.004404</td>\n",
       "      <td>NaN</td>\n",
       "    </tr>\n",
       "    <tr>\n",
       "      <th>11</th>\n",
       "      <td>mp-17</td>\n",
       "      <td>Cr</td>\n",
       "      <td>0.0000</td>\n",
       "      <td>True</td>\n",
       "      <td>4.512191</td>\n",
       "      <td>4.512191</td>\n",
       "      <td>4.512191</td>\n",
       "      <td>90.000000</td>\n",
       "      <td>90.000000</td>\n",
       "      <td>90.000000</td>\n",
       "      <td>NaN</td>\n",
       "    </tr>\n",
       "    <tr>\n",
       "      <th>12</th>\n",
       "      <td>mp-18</td>\n",
       "      <td>Tb</td>\n",
       "      <td>0.0000</td>\n",
       "      <td>True</td>\n",
       "      <td>3.672475</td>\n",
       "      <td>3.672476</td>\n",
       "      <td>5.601431</td>\n",
       "      <td>90.000000</td>\n",
       "      <td>90.000000</td>\n",
       "      <td>120.000001</td>\n",
       "      <td>NaN</td>\n",
       "    </tr>\n",
       "    <tr>\n",
       "      <th>13</th>\n",
       "      <td>mp-19</td>\n",
       "      <td>Te</td>\n",
       "      <td>0.1856</td>\n",
       "      <td>False</td>\n",
       "      <td>4.601352</td>\n",
       "      <td>4.601353</td>\n",
       "      <td>5.900062</td>\n",
       "      <td>89.955226</td>\n",
       "      <td>90.044754</td>\n",
       "      <td>119.990771</td>\n",
       "      <td>(1073862.8425271322, [0.0, 0.0211, 0.0422, 0.0...</td>\n",
       "    </tr>\n",
       "    <tr>\n",
       "      <th>14</th>\n",
       "      <td>mp-20</td>\n",
       "      <td>Be</td>\n",
       "      <td>0.0000</td>\n",
       "      <td>True</td>\n",
       "      <td>2.170469</td>\n",
       "      <td>2.170469</td>\n",
       "      <td>2.170469</td>\n",
       "      <td>109.471227</td>\n",
       "      <td>109.471229</td>\n",
       "      <td>109.471197</td>\n",
       "      <td>NaN</td>\n",
       "    </tr>\n",
       "    <tr>\n",
       "      <th>15</th>\n",
       "      <td>mp-21</td>\n",
       "      <td>Ca</td>\n",
       "      <td>0.0000</td>\n",
       "      <td>True</td>\n",
       "      <td>3.814854</td>\n",
       "      <td>3.814854</td>\n",
       "      <td>3.813718</td>\n",
       "      <td>109.359848</td>\n",
       "      <td>109.359847</td>\n",
       "      <td>109.706206</td>\n",
       "      <td>NaN</td>\n",
       "    </tr>\n",
       "    <tr>\n",
       "      <th>16</th>\n",
       "      <td>mp-23</td>\n",
       "      <td>Ni</td>\n",
       "      <td>0.0000</td>\n",
       "      <td>True</td>\n",
       "      <td>2.457299</td>\n",
       "      <td>2.457299</td>\n",
       "      <td>2.457299</td>\n",
       "      <td>60.000007</td>\n",
       "      <td>60.000001</td>\n",
       "      <td>60.000015</td>\n",
       "      <td>NaN</td>\n",
       "    </tr>\n",
       "    <tr>\n",
       "      <th>17</th>\n",
       "      <td>mp-24</td>\n",
       "      <td>C</td>\n",
       "      <td>2.4070</td>\n",
       "      <td>False</td>\n",
       "      <td>3.861283</td>\n",
       "      <td>3.861283</td>\n",
       "      <td>3.861282</td>\n",
       "      <td>109.471220</td>\n",
       "      <td>109.471221</td>\n",
       "      <td>109.471218</td>\n",
       "      <td>NaN</td>\n",
       "    </tr>\n",
       "    <tr>\n",
       "      <th>18</th>\n",
       "      <td>mp-25</td>\n",
       "      <td>N2</td>\n",
       "      <td>7.3685</td>\n",
       "      <td>False</td>\n",
       "      <td>5.560518</td>\n",
       "      <td>5.560518</td>\n",
       "      <td>5.560518</td>\n",
       "      <td>90.000000</td>\n",
       "      <td>90.000000</td>\n",
       "      <td>90.000000</td>\n",
       "      <td>NaN</td>\n",
       "    </tr>\n",
       "    <tr>\n",
       "      <th>19</th>\n",
       "      <td>mp-26</td>\n",
       "      <td>La</td>\n",
       "      <td>0.0000</td>\n",
       "      <td>True</td>\n",
       "      <td>3.796311</td>\n",
       "      <td>3.796312</td>\n",
       "      <td>12.041258</td>\n",
       "      <td>90.000000</td>\n",
       "      <td>90.000000</td>\n",
       "      <td>120.000003</td>\n",
       "      <td>NaN</td>\n",
       "    </tr>\n",
       "    <tr>\n",
       "      <th>20</th>\n",
       "      <td>mp-27</td>\n",
       "      <td>Si</td>\n",
       "      <td>0.0000</td>\n",
       "      <td>True</td>\n",
       "      <td>2.702323</td>\n",
       "      <td>2.702322</td>\n",
       "      <td>2.702322</td>\n",
       "      <td>60.000008</td>\n",
       "      <td>60.000017</td>\n",
       "      <td>60.000009</td>\n",
       "      <td>NaN</td>\n",
       "    </tr>\n",
       "    <tr>\n",
       "      <th>21</th>\n",
       "      <td>mp-28</td>\n",
       "      <td>Ce</td>\n",
       "      <td>0.0000</td>\n",
       "      <td>True</td>\n",
       "      <td>3.303906</td>\n",
       "      <td>3.303907</td>\n",
       "      <td>3.303907</td>\n",
       "      <td>60.000010</td>\n",
       "      <td>59.999999</td>\n",
       "      <td>60.000004</td>\n",
       "      <td>NaN</td>\n",
       "    </tr>\n",
       "    <tr>\n",
       "      <th>22</th>\n",
       "      <td>mp-30</td>\n",
       "      <td>Cu</td>\n",
       "      <td>0.0000</td>\n",
       "      <td>True</td>\n",
       "      <td>2.529625</td>\n",
       "      <td>2.529626</td>\n",
       "      <td>2.529625</td>\n",
       "      <td>60.000012</td>\n",
       "      <td>60.000004</td>\n",
       "      <td>60.000003</td>\n",
       "      <td>NaN</td>\n",
       "    </tr>\n",
       "    <tr>\n",
       "      <th>23</th>\n",
       "      <td>mp-32</td>\n",
       "      <td>Ge</td>\n",
       "      <td>0.0000</td>\n",
       "      <td>True</td>\n",
       "      <td>4.012728</td>\n",
       "      <td>4.012728</td>\n",
       "      <td>4.012728</td>\n",
       "      <td>59.999988</td>\n",
       "      <td>59.999993</td>\n",
       "      <td>59.999990</td>\n",
       "      <td>NaN</td>\n",
       "    </tr>\n",
       "    <tr>\n",
       "      <th>24</th>\n",
       "      <td>mp-33</td>\n",
       "      <td>Ru</td>\n",
       "      <td>0.0000</td>\n",
       "      <td>True</td>\n",
       "      <td>2.707826</td>\n",
       "      <td>2.707826</td>\n",
       "      <td>4.268102</td>\n",
       "      <td>90.000000</td>\n",
       "      <td>90.000000</td>\n",
       "      <td>120.000002</td>\n",
       "      <td>NaN</td>\n",
       "    </tr>\n",
       "    <tr>\n",
       "      <th>25</th>\n",
       "      <td>mp-34</td>\n",
       "      <td>Si</td>\n",
       "      <td>0.0000</td>\n",
       "      <td>True</td>\n",
       "      <td>2.620544</td>\n",
       "      <td>2.620542</td>\n",
       "      <td>2.466354</td>\n",
       "      <td>90.000000</td>\n",
       "      <td>90.000000</td>\n",
       "      <td>119.999982</td>\n",
       "      <td>NaN</td>\n",
       "    </tr>\n",
       "    <tr>\n",
       "      <th>26</th>\n",
       "      <td>mp-35</td>\n",
       "      <td>Mn</td>\n",
       "      <td>0.0000</td>\n",
       "      <td>True</td>\n",
       "      <td>7.886908</td>\n",
       "      <td>7.886908</td>\n",
       "      <td>7.886908</td>\n",
       "      <td>109.471221</td>\n",
       "      <td>109.471221</td>\n",
       "      <td>109.471221</td>\n",
       "      <td>NaN</td>\n",
       "    </tr>\n",
       "    <tr>\n",
       "      <th>27</th>\n",
       "      <td>mp-36</td>\n",
       "      <td>Sc</td>\n",
       "      <td>0.0000</td>\n",
       "      <td>True</td>\n",
       "      <td>3.290962</td>\n",
       "      <td>3.290962</td>\n",
       "      <td>3.290963</td>\n",
       "      <td>89.968192</td>\n",
       "      <td>120.018375</td>\n",
       "      <td>120.018370</td>\n",
       "      <td>NaN</td>\n",
       "    </tr>\n",
       "    <tr>\n",
       "      <th>28</th>\n",
       "      <td>mp-37</td>\n",
       "      <td>Th</td>\n",
       "      <td>0.0000</td>\n",
       "      <td>True</td>\n",
       "      <td>3.573413</td>\n",
       "      <td>3.573411</td>\n",
       "      <td>3.566722</td>\n",
       "      <td>120.062055</td>\n",
       "      <td>120.062057</td>\n",
       "      <td>90.000010</td>\n",
       "      <td>NaN</td>\n",
       "    </tr>\n",
       "    <tr>\n",
       "      <th>29</th>\n",
       "      <td>mp-38</td>\n",
       "      <td>Pr</td>\n",
       "      <td>0.0000</td>\n",
       "      <td>True</td>\n",
       "      <td>3.748307</td>\n",
       "      <td>3.748305</td>\n",
       "      <td>12.014247</td>\n",
       "      <td>90.000000</td>\n",
       "      <td>90.000000</td>\n",
       "      <td>120.000009</td>\n",
       "      <td>NaN</td>\n",
       "    </tr>\n",
       "    <tr>\n",
       "      <th>30</th>\n",
       "      <td>mp-39</td>\n",
       "      <td>Tl</td>\n",
       "      <td>0.0000</td>\n",
       "      <td>True</td>\n",
       "      <td>3.387883</td>\n",
       "      <td>3.387884</td>\n",
       "      <td>3.387883</td>\n",
       "      <td>109.471235</td>\n",
       "      <td>109.471241</td>\n",
       "      <td>109.471202</td>\n",
       "      <td>NaN</td>\n",
       "    </tr>\n",
       "    <tr>\n",
       "      <th>31</th>\n",
       "      <td>mp-41</td>\n",
       "      <td>Zr</td>\n",
       "      <td>0.0000</td>\n",
       "      <td>True</td>\n",
       "      <td>3.101839</td>\n",
       "      <td>3.101838</td>\n",
       "      <td>3.101837</td>\n",
       "      <td>109.471199</td>\n",
       "      <td>109.471197</td>\n",
       "      <td>109.471236</td>\n",
       "      <td>NaN</td>\n",
       "    </tr>\n",
       "    <tr>\n",
       "      <th>32</th>\n",
       "      <td>mp-42</td>\n",
       "      <td>Ta</td>\n",
       "      <td>0.0000</td>\n",
       "      <td>True</td>\n",
       "      <td>5.308173</td>\n",
       "      <td>10.222067</td>\n",
       "      <td>10.222067</td>\n",
       "      <td>90.000000</td>\n",
       "      <td>90.000000</td>\n",
       "      <td>90.000000</td>\n",
       "      <td>NaN</td>\n",
       "    </tr>\n",
       "    <tr>\n",
       "      <th>33</th>\n",
       "      <td>mp-43</td>\n",
       "      <td>U</td>\n",
       "      <td>0.0000</td>\n",
       "      <td>True</td>\n",
       "      <td>5.591380</td>\n",
       "      <td>10.156448</td>\n",
       "      <td>10.156448</td>\n",
       "      <td>90.000000</td>\n",
       "      <td>90.000000</td>\n",
       "      <td>90.000000</td>\n",
       "      <td>NaN</td>\n",
       "    </tr>\n",
       "    <tr>\n",
       "      <th>34</th>\n",
       "      <td>mp-44</td>\n",
       "      <td>U</td>\n",
       "      <td>0.0000</td>\n",
       "      <td>True</td>\n",
       "      <td>2.770752</td>\n",
       "      <td>3.236137</td>\n",
       "      <td>4.850106</td>\n",
       "      <td>90.000000</td>\n",
       "      <td>90.000000</td>\n",
       "      <td>115.346739</td>\n",
       "      <td>NaN</td>\n",
       "    </tr>\n",
       "    <tr>\n",
       "      <th>35</th>\n",
       "      <td>mp-45</td>\n",
       "      <td>Ca</td>\n",
       "      <td>0.0000</td>\n",
       "      <td>True</td>\n",
       "      <td>3.943404</td>\n",
       "      <td>3.943403</td>\n",
       "      <td>3.943405</td>\n",
       "      <td>60.000006</td>\n",
       "      <td>60.000012</td>\n",
       "      <td>60.000008</td>\n",
       "      <td>NaN</td>\n",
       "    </tr>\n",
       "    <tr>\n",
       "      <th>36</th>\n",
       "      <td>mp-46</td>\n",
       "      <td>Ti</td>\n",
       "      <td>0.0000</td>\n",
       "      <td>True</td>\n",
       "      <td>2.935731</td>\n",
       "      <td>2.935733</td>\n",
       "      <td>4.640856</td>\n",
       "      <td>90.000000</td>\n",
       "      <td>90.000000</td>\n",
       "      <td>119.999985</td>\n",
       "      <td>NaN</td>\n",
       "    </tr>\n",
       "    <tr>\n",
       "      <th>37</th>\n",
       "      <td>mp-47</td>\n",
       "      <td>C</td>\n",
       "      <td>3.3395</td>\n",
       "      <td>False</td>\n",
       "      <td>2.503303</td>\n",
       "      <td>2.503303</td>\n",
       "      <td>4.168969</td>\n",
       "      <td>90.000000</td>\n",
       "      <td>90.000000</td>\n",
       "      <td>120.000015</td>\n",
       "      <td>NaN</td>\n",
       "    </tr>\n",
       "    <tr>\n",
       "      <th>38</th>\n",
       "      <td>mp-48</td>\n",
       "      <td>C</td>\n",
       "      <td>0.0000</td>\n",
       "      <td>True</td>\n",
       "      <td>2.467291</td>\n",
       "      <td>2.467292</td>\n",
       "      <td>7.803073</td>\n",
       "      <td>90.000000</td>\n",
       "      <td>90.000000</td>\n",
       "      <td>120.000006</td>\n",
       "      <td>NaN</td>\n",
       "    </tr>\n",
       "    <tr>\n",
       "      <th>39</th>\n",
       "      <td>mp-49</td>\n",
       "      <td>Os</td>\n",
       "      <td>0.0000</td>\n",
       "      <td>True</td>\n",
       "      <td>2.746134</td>\n",
       "      <td>2.746135</td>\n",
       "      <td>4.326314</td>\n",
       "      <td>90.000000</td>\n",
       "      <td>90.000000</td>\n",
       "      <td>119.999993</td>\n",
       "      <td>NaN</td>\n",
       "    </tr>\n",
       "    <tr>\n",
       "      <th>40</th>\n",
       "      <td>mp-50</td>\n",
       "      <td>Ta</td>\n",
       "      <td>0.0000</td>\n",
       "      <td>True</td>\n",
       "      <td>2.866418</td>\n",
       "      <td>2.866419</td>\n",
       "      <td>2.866418</td>\n",
       "      <td>109.471207</td>\n",
       "      <td>109.471213</td>\n",
       "      <td>109.471212</td>\n",
       "      <td>NaN</td>\n",
       "    </tr>\n",
       "    <tr>\n",
       "      <th>41</th>\n",
       "      <td>mp-51</td>\n",
       "      <td>Li</td>\n",
       "      <td>0.0000</td>\n",
       "      <td>True</td>\n",
       "      <td>3.064364</td>\n",
       "      <td>3.064363</td>\n",
       "      <td>3.064364</td>\n",
       "      <td>59.999991</td>\n",
       "      <td>59.999999</td>\n",
       "      <td>60.000004</td>\n",
       "      <td>NaN</td>\n",
       "    </tr>\n",
       "    <tr>\n",
       "      <th>42</th>\n",
       "      <td>mp-53</td>\n",
       "      <td>P</td>\n",
       "      <td>0.0000</td>\n",
       "      <td>True</td>\n",
       "      <td>5.433615</td>\n",
       "      <td>2.438535</td>\n",
       "      <td>2.424694</td>\n",
       "      <td>90.000024</td>\n",
       "      <td>116.742289</td>\n",
       "      <td>90.001612</td>\n",
       "      <td>NaN</td>\n",
       "    </tr>\n",
       "    <tr>\n",
       "      <th>43</th>\n",
       "      <td>mp-54</td>\n",
       "      <td>Co</td>\n",
       "      <td>0.0000</td>\n",
       "      <td>True</td>\n",
       "      <td>2.472000</td>\n",
       "      <td>2.472000</td>\n",
       "      <td>4.021144</td>\n",
       "      <td>90.000000</td>\n",
       "      <td>90.000000</td>\n",
       "      <td>119.999984</td>\n",
       "      <td>NaN</td>\n",
       "    </tr>\n",
       "    <tr>\n",
       "      <th>44</th>\n",
       "      <td>mp-55</td>\n",
       "      <td>Sn</td>\n",
       "      <td>0.0000</td>\n",
       "      <td>True</td>\n",
       "      <td>3.315622</td>\n",
       "      <td>3.315621</td>\n",
       "      <td>3.315621</td>\n",
       "      <td>104.530194</td>\n",
       "      <td>104.530212</td>\n",
       "      <td>119.882264</td>\n",
       "      <td>NaN</td>\n",
       "    </tr>\n",
       "    <tr>\n",
       "      <th>45</th>\n",
       "      <td>mp-56</td>\n",
       "      <td>Ba</td>\n",
       "      <td>0.0000</td>\n",
       "      <td>True</td>\n",
       "      <td>4.626150</td>\n",
       "      <td>4.630307</td>\n",
       "      <td>7.294678</td>\n",
       "      <td>90.000000</td>\n",
       "      <td>90.000000</td>\n",
       "      <td>119.970313</td>\n",
       "      <td>NaN</td>\n",
       "    </tr>\n",
       "    <tr>\n",
       "      <th>46</th>\n",
       "      <td>mp-58</td>\n",
       "      <td>K</td>\n",
       "      <td>0.0000</td>\n",
       "      <td>True</td>\n",
       "      <td>4.672308</td>\n",
       "      <td>4.672309</td>\n",
       "      <td>4.672308</td>\n",
       "      <td>109.471214</td>\n",
       "      <td>109.471218</td>\n",
       "      <td>109.471232</td>\n",
       "      <td>NaN</td>\n",
       "    </tr>\n",
       "    <tr>\n",
       "      <th>47</th>\n",
       "      <td>mp-62</td>\n",
       "      <td>Pa</td>\n",
       "      <td>0.0000</td>\n",
       "      <td>True</td>\n",
       "      <td>3.198443</td>\n",
       "      <td>3.198443</td>\n",
       "      <td>3.198445</td>\n",
       "      <td>104.198334</td>\n",
       "      <td>104.198344</td>\n",
       "      <td>120.626610</td>\n",
       "      <td>NaN</td>\n",
       "    </tr>\n",
       "    <tr>\n",
       "      <th>48</th>\n",
       "      <td>mp-63</td>\n",
       "      <td>Pr</td>\n",
       "      <td>0.0000</td>\n",
       "      <td>True</td>\n",
       "      <td>3.632755</td>\n",
       "      <td>3.632755</td>\n",
       "      <td>3.632756</td>\n",
       "      <td>109.471240</td>\n",
       "      <td>109.471242</td>\n",
       "      <td>109.471197</td>\n",
       "      <td>NaN</td>\n",
       "    </tr>\n",
       "    <tr>\n",
       "      <th>49</th>\n",
       "      <td>mp-64</td>\n",
       "      <td>Ce</td>\n",
       "      <td>0.0000</td>\n",
       "      <td>True</td>\n",
       "      <td>3.464996</td>\n",
       "      <td>3.464996</td>\n",
       "      <td>5.220982</td>\n",
       "      <td>90.000000</td>\n",
       "      <td>90.000000</td>\n",
       "      <td>125.924288</td>\n",
       "      <td>NaN</td>\n",
       "    </tr>\n",
       "  </tbody>\n",
       "</table>\n",
       "</div>"
      ],
      "text/plain": [
       "       id Formule      BG     IM         a          b          c        alfa  \\\n",
       "0    mp-1      Cs  0.0000   True  5.418661   5.418661   5.418660  109.471226   \n",
       "1    mp-2      Pd  0.0000   True  2.769950   2.769951   2.769950   59.999998   \n",
       "2    mp-3      Cs  0.0000   True  5.107693   5.107692  10.253232  104.422913   \n",
       "3    mp-4      Nd  0.0000   True  3.594818   3.594820   3.594820  109.471212   \n",
       "4    mp-7       S  2.2079  False  6.439929   6.439930   6.439930  114.751858   \n",
       "5    mp-8      Re  0.0000   True  2.765336   2.765337   4.473577   90.000000   \n",
       "6    mp-9       Y  0.0000   True  3.609061   3.609061   3.609060   59.999985   \n",
       "7   mp-10      As  0.0000   True  3.823583   3.823584   3.823584   59.999999   \n",
       "8   mp-11      As  0.0000   True  4.292047   4.292047   4.292046   51.878293   \n",
       "9   mp-13      Fe  0.0000   True  2.477813   2.477809   4.054295   90.000038   \n",
       "10  mp-14      Se  0.8765  False  4.504819   4.504823   4.978796   89.991118   \n",
       "11  mp-17      Cr  0.0000   True  4.512191   4.512191   4.512191   90.000000   \n",
       "12  mp-18      Tb  0.0000   True  3.672475   3.672476   5.601431   90.000000   \n",
       "13  mp-19      Te  0.1856  False  4.601352   4.601353   5.900062   89.955226   \n",
       "14  mp-20      Be  0.0000   True  2.170469   2.170469   2.170469  109.471227   \n",
       "15  mp-21      Ca  0.0000   True  3.814854   3.814854   3.813718  109.359848   \n",
       "16  mp-23      Ni  0.0000   True  2.457299   2.457299   2.457299   60.000007   \n",
       "17  mp-24       C  2.4070  False  3.861283   3.861283   3.861282  109.471220   \n",
       "18  mp-25      N2  7.3685  False  5.560518   5.560518   5.560518   90.000000   \n",
       "19  mp-26      La  0.0000   True  3.796311   3.796312  12.041258   90.000000   \n",
       "20  mp-27      Si  0.0000   True  2.702323   2.702322   2.702322   60.000008   \n",
       "21  mp-28      Ce  0.0000   True  3.303906   3.303907   3.303907   60.000010   \n",
       "22  mp-30      Cu  0.0000   True  2.529625   2.529626   2.529625   60.000012   \n",
       "23  mp-32      Ge  0.0000   True  4.012728   4.012728   4.012728   59.999988   \n",
       "24  mp-33      Ru  0.0000   True  2.707826   2.707826   4.268102   90.000000   \n",
       "25  mp-34      Si  0.0000   True  2.620544   2.620542   2.466354   90.000000   \n",
       "26  mp-35      Mn  0.0000   True  7.886908   7.886908   7.886908  109.471221   \n",
       "27  mp-36      Sc  0.0000   True  3.290962   3.290962   3.290963   89.968192   \n",
       "28  mp-37      Th  0.0000   True  3.573413   3.573411   3.566722  120.062055   \n",
       "29  mp-38      Pr  0.0000   True  3.748307   3.748305  12.014247   90.000000   \n",
       "30  mp-39      Tl  0.0000   True  3.387883   3.387884   3.387883  109.471235   \n",
       "31  mp-41      Zr  0.0000   True  3.101839   3.101838   3.101837  109.471199   \n",
       "32  mp-42      Ta  0.0000   True  5.308173  10.222067  10.222067   90.000000   \n",
       "33  mp-43       U  0.0000   True  5.591380  10.156448  10.156448   90.000000   \n",
       "34  mp-44       U  0.0000   True  2.770752   3.236137   4.850106   90.000000   \n",
       "35  mp-45      Ca  0.0000   True  3.943404   3.943403   3.943405   60.000006   \n",
       "36  mp-46      Ti  0.0000   True  2.935731   2.935733   4.640856   90.000000   \n",
       "37  mp-47       C  3.3395  False  2.503303   2.503303   4.168969   90.000000   \n",
       "38  mp-48       C  0.0000   True  2.467291   2.467292   7.803073   90.000000   \n",
       "39  mp-49      Os  0.0000   True  2.746134   2.746135   4.326314   90.000000   \n",
       "40  mp-50      Ta  0.0000   True  2.866418   2.866419   2.866418  109.471207   \n",
       "41  mp-51      Li  0.0000   True  3.064364   3.064363   3.064364   59.999991   \n",
       "42  mp-53       P  0.0000   True  5.433615   2.438535   2.424694   90.000024   \n",
       "43  mp-54      Co  0.0000   True  2.472000   2.472000   4.021144   90.000000   \n",
       "44  mp-55      Sn  0.0000   True  3.315622   3.315621   3.315621  104.530194   \n",
       "45  mp-56      Ba  0.0000   True  4.626150   4.630307   7.294678   90.000000   \n",
       "46  mp-58       K  0.0000   True  4.672308   4.672309   4.672308  109.471214   \n",
       "47  mp-62      Pa  0.0000   True  3.198443   3.198443   3.198445  104.198334   \n",
       "48  mp-63      Pr  0.0000   True  3.632755   3.632755   3.632756  109.471240   \n",
       "49  mp-64      Ce  0.0000   True  3.464996   3.464996   5.220982   90.000000   \n",
       "\n",
       "          beta       gamma                                                 CA  \n",
       "0   109.471227  109.471213                                                NaN  \n",
       "1    59.999983   60.000004                                                NaN  \n",
       "2   104.422916   89.999987                                                NaN  \n",
       "3   109.471223  109.471225                                                NaN  \n",
       "4   114.751848  114.751835                                                NaN  \n",
       "5    90.000000  119.999987                                                NaN  \n",
       "6    59.999985   59.999984                                                NaN  \n",
       "7    59.999994   60.000005                                                NaN  \n",
       "8    51.878304   51.878291                                                NaN  \n",
       "9    90.000320  109.469837                                                NaN  \n",
       "10   90.004517  120.004404                                                NaN  \n",
       "11   90.000000   90.000000                                                NaN  \n",
       "12   90.000000  120.000001                                                NaN  \n",
       "13   90.044754  119.990771  (1073862.8425271322, [0.0, 0.0211, 0.0422, 0.0...  \n",
       "14  109.471229  109.471197                                                NaN  \n",
       "15  109.359847  109.706206                                                NaN  \n",
       "16   60.000001   60.000015                                                NaN  \n",
       "17  109.471221  109.471218                                                NaN  \n",
       "18   90.000000   90.000000                                                NaN  \n",
       "19   90.000000  120.000003                                                NaN  \n",
       "20   60.000017   60.000009                                                NaN  \n",
       "21   59.999999   60.000004                                                NaN  \n",
       "22   60.000004   60.000003                                                NaN  \n",
       "23   59.999993   59.999990                                                NaN  \n",
       "24   90.000000  120.000002                                                NaN  \n",
       "25   90.000000  119.999982                                                NaN  \n",
       "26  109.471221  109.471221                                                NaN  \n",
       "27  120.018375  120.018370                                                NaN  \n",
       "28  120.062057   90.000010                                                NaN  \n",
       "29   90.000000  120.000009                                                NaN  \n",
       "30  109.471241  109.471202                                                NaN  \n",
       "31  109.471197  109.471236                                                NaN  \n",
       "32   90.000000   90.000000                                                NaN  \n",
       "33   90.000000   90.000000                                                NaN  \n",
       "34   90.000000  115.346739                                                NaN  \n",
       "35   60.000012   60.000008                                                NaN  \n",
       "36   90.000000  119.999985                                                NaN  \n",
       "37   90.000000  120.000015                                                NaN  \n",
       "38   90.000000  120.000006                                                NaN  \n",
       "39   90.000000  119.999993                                                NaN  \n",
       "40  109.471213  109.471212                                                NaN  \n",
       "41   59.999999   60.000004                                                NaN  \n",
       "42  116.742289   90.001612                                                NaN  \n",
       "43   90.000000  119.999984                                                NaN  \n",
       "44  104.530212  119.882264                                                NaN  \n",
       "45   90.000000  119.970313                                                NaN  \n",
       "46  109.471218  109.471232                                                NaN  \n",
       "47  104.198344  120.626610                                                NaN  \n",
       "48  109.471242  109.471197                                                NaN  \n",
       "49   90.000000  125.924288                                                NaN  "
      ]
     },
     "execution_count": 2,
     "metadata": {},
     "output_type": "execute_result"
    }
   ],
   "source": [
    "df=pd.DataFrame()\n",
    "ids=[]\n",
    "formule=[]##### NUEVA LINEA\n",
    "BG=[]\n",
    "IM=[]\n",
    "a=[]\n",
    "b=[]\n",
    "c=[]\n",
    "alfa=[]\n",
    "beta=[]\n",
    "gamma=[]\n",
    "CA=[]\n",
    "with open('text files/intento1.txt','r') as file:\n",
    "    for material in file:\n",
    "        material=str(material.strip())\n",
    "        ids.append(material)\n",
    "        #\n",
    "        docs = mpr.summary.search(material_ids=[material]) #type: list\n",
    "        IM.append(docs[0].is_metal)\n",
    "        formule.append(docs[0].formula_pretty)##### NUEVA LINEA\n",
    "        BG.append(docs[0].band_gap)\n",
    "        a.append(docs[0].structure.lattice.abc[0])\n",
    "        b.append(docs[0].structure.lattice.abc[1])\n",
    "        c.append(docs[0].structure.lattice.abc[2])\n",
    "        alfa.append(docs[0].structure.lattice.angles[0])\n",
    "        beta.append(docs[0].structure.lattice.angles[1])\n",
    "        gamma.append(docs[0].structure.lattice.angles[2])\n",
    "        #\n",
    "        absorption = mpr.absorption.search(material_ids=[material], fields=[\"energies\", \"absorption_coefficient\"])\n",
    "        if len(absorption)==0:\n",
    "            CA.append(np.nan)\n",
    "        else:\n",
    "            absorption=absorption\n",
    "            energia=absorption[0].energies\n",
    "            absorcion=absorption[0].absorption_coefficient\n",
    "            x=np.array(absorption[0].energies)\n",
    "            y=np.array(absorption[0].absorption_coefficient)\n",
    "            CA.append((np.interp(2.479647809,x,y),x,y))\n",
    "df['id']=ids\n",
    "df['Formule']=formule##### NUEVA LINEA\n",
    "df['BG']=BG\n",
    "df['IM']=IM\n",
    "df['a']=a\n",
    "df['b']=b\n",
    "df['c']=c\n",
    "df['alfa']=alfa\n",
    "df['beta']=beta\n",
    "df['gamma']=gamma\n",
    "df['CA']=CA\n",
    "df.to_csv('df_intento10.csv',index=False)\n",
    "df"
   ]
  }
 ],
 "metadata": {
  "kernelspec": {
   "display_name": "Python 3 (ipykernel)",
   "language": "python",
   "name": "python3"
  },
  "language_info": {
   "codemirror_mode": {
    "name": "ipython",
    "version": 3
   },
   "file_extension": ".py",
   "mimetype": "text/x-python",
   "name": "python",
   "nbconvert_exporter": "python",
   "pygments_lexer": "ipython3",
   "version": "3.11.5"
  }
 },
 "nbformat": 4,
 "nbformat_minor": 5
}
